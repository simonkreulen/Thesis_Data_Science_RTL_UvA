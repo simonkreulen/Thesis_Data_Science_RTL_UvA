{
 "cells": [
  {
   "cell_type": "markdown",
   "metadata": {
    "application/vnd.databricks.v1+cell": {
     "cellMetadata": {},
     "inputWidgets": {},
     "nuid": "6cb5626d-4d5d-4ce3-8c9d-47958e8b6eb3",
     "showTitle": false,
     "tableResultSettingsMap": {},
     "title": ""
    }
   },
   "source": [
    "\n",
    "### In this notebook, all the model development and running steps are found."
   ]
  },
  {
   "cell_type": "code",
   "execution_count": 0,
   "metadata": {
    "application/vnd.databricks.v1+cell": {
     "cellMetadata": {
      "byteLimit": 2048000,
      "rowLimit": 10000
     },
     "inputWidgets": {},
     "nuid": "efffc61a-4157-4031-9a75-1326f066a780",
     "showTitle": false,
     "tableResultSettingsMap": {},
     "title": ""
    }
   },
   "outputs": [],
   "source": [
    "import pandas as pd\n",
    "import numpy as np\n",
    "import os\n",
    "import openai\n",
    "from openai import OpenAI\n",
    "from sklearn.model_selection import train_test_split\n",
    "from sklearn.neural_network import MLPClassifier\n",
    "from sklearn.feature_extraction.text import CountVectorizer\n",
    "from sklearn.preprocessing import MultiLabelBinarizer\n",
    "from collections import Counter\n",
    "from tenacity import (\n",
    "    retry,\n",
    "    stop_after_attempt,\n",
    "    wait_random_exponential,\n",
    ") \n",
    "import torch\n",
    "import torch.nn as nn\n",
    "import torch.nn.functional as F\n",
    "from sklearn.metrics import classification_report\n",
    "from torch.utils.data import DataLoader, TensorDataset\n",
    "from tenacity import retry, wait_random_exponential, stop_after_attempt"
   ]
  },
  {
   "cell_type": "code",
   "execution_count": 0,
   "metadata": {
    "application/vnd.databricks.v1+cell": {
     "cellMetadata": {
      "byteLimit": 2048000,
      "rowLimit": 10000
     },
     "inputWidgets": {},
     "nuid": "fa043809-1505-484f-9bff-b65b192909c2",
     "showTitle": false,
     "tableResultSettingsMap": {},
     "title": ""
    }
   },
   "outputs": [
    {
     "output_type": "execute_result",
     "data": {
      "text/plain": [
       "14511"
      ]
     },
     "execution_count": 23,
     "metadata": {},
     "output_type": "execute_result"
    }
   ],
   "source": [
    "MPST_df = pd.read_csv(\"/dbfs/tmp/model_ready_MPST.csv\")\n",
    "MPST_df.head()\n",
    "len(MPST_df)"
   ]
  },
  {
   "cell_type": "code",
   "execution_count": 0,
   "metadata": {
    "application/vnd.databricks.v1+cell": {
     "cellMetadata": {
      "byteLimit": 2048000,
      "rowLimit": 10000
     },
     "inputWidgets": {},
     "nuid": "cc4e62ce-369a-4d5f-a3eb-f57cf578e4e9",
     "showTitle": false,
     "tableResultSettingsMap": {},
     "title": ""
    }
   },
   "outputs": [
    {
     "output_type": "execute_result",
     "data": {
      "text/html": [
       "<div>\n",
       "<style scoped>\n",
       "    .dataframe tbody tr th:only-of-type {\n",
       "        vertical-align: middle;\n",
       "    }\n",
       "\n",
       "    .dataframe tbody tr th {\n",
       "        vertical-align: top;\n",
       "    }\n",
       "\n",
       "    .dataframe thead th {\n",
       "        text-align: right;\n",
       "    }\n",
       "</style>\n",
       "<table border=\"1\" class=\"dataframe\">\n",
       "  <thead>\n",
       "    <tr style=\"text-align: right;\">\n",
       "      <th></th>\n",
       "      <th>imdb_id</th>\n",
       "      <th>title</th>\n",
       "      <th>plot_synopsis</th>\n",
       "      <th>tags</th>\n",
       "      <th>split</th>\n",
       "      <th>award_label</th>\n",
       "      <th>num_tags</th>\n",
       "      <th>title_length</th>\n",
       "      <th>plot_length</th>\n",
       "      <th>award_label_length</th>\n",
       "    </tr>\n",
       "  </thead>\n",
       "  <tbody>\n",
       "    <tr>\n",
       "      <th>0</th>\n",
       "      <td>tt0057603</td>\n",
       "      <td>I tre volti della paura</td>\n",
       "      <td>Note: this synopsis is for the orginal Italian...</td>\n",
       "      <td>[cult,  horror,  gothic,  murder,  atmospheric]</td>\n",
       "      <td>train</td>\n",
       "      <td>No award</td>\n",
       "      <td>5</td>\n",
       "      <td>23</td>\n",
       "      <td>7527</td>\n",
       "      <td>8</td>\n",
       "    </tr>\n",
       "    <tr>\n",
       "      <th>1</th>\n",
       "      <td>tt1733125</td>\n",
       "      <td>Dungeons &amp; Dragons: The Book of Vile Darkness</td>\n",
       "      <td>Two thousand years ago, Nhagruul the Foul, a s...</td>\n",
       "      <td>[violence]</td>\n",
       "      <td>train</td>\n",
       "      <td>No award</td>\n",
       "      <td>1</td>\n",
       "      <td>45</td>\n",
       "      <td>2077</td>\n",
       "      <td>8</td>\n",
       "    </tr>\n",
       "    <tr>\n",
       "      <th>2</th>\n",
       "      <td>tt0033045</td>\n",
       "      <td>The Shop Around the Corner</td>\n",
       "      <td>Matuschek's, a gift store in Budapest, is the ...</td>\n",
       "      <td>[romantic]</td>\n",
       "      <td>test</td>\n",
       "      <td>No award</td>\n",
       "      <td>1</td>\n",
       "      <td>26</td>\n",
       "      <td>4003</td>\n",
       "      <td>8</td>\n",
       "    </tr>\n",
       "    <tr>\n",
       "      <th>3</th>\n",
       "      <td>tt0113862</td>\n",
       "      <td>Mr. Holland's Opus</td>\n",
       "      <td>Glenn Holland, not a morning person by anyone'...</td>\n",
       "      <td>[inspiring,  romantic,  stupid,  feel-good]</td>\n",
       "      <td>train</td>\n",
       "      <td>No award</td>\n",
       "      <td>4</td>\n",
       "      <td>18</td>\n",
       "      <td>13215</td>\n",
       "      <td>8</td>\n",
       "    </tr>\n",
       "    <tr>\n",
       "      <th>4</th>\n",
       "      <td>tt0086250</td>\n",
       "      <td>Scarface</td>\n",
       "      <td>In May 1980, a Cuban man named Tony Montana (A...</td>\n",
       "      <td>[cruelty,  murder,  dramatic,  cult,  violence...</td>\n",
       "      <td>val</td>\n",
       "      <td>No award</td>\n",
       "      <td>10</td>\n",
       "      <td>8</td>\n",
       "      <td>17575</td>\n",
       "      <td>8</td>\n",
       "    </tr>\n",
       "  </tbody>\n",
       "</table>\n",
       "</div>"
      ],
      "text/plain": [
       "     imdb_id  ... award_label_length\n",
       "0  tt0057603  ...                  8\n",
       "1  tt1733125  ...                  8\n",
       "2  tt0033045  ...                  8\n",
       "3  tt0113862  ...                  8\n",
       "4  tt0086250  ...                  8\n",
       "\n",
       "[5 rows x 10 columns]"
      ]
     },
     "execution_count": 15,
     "metadata": {},
     "output_type": "execute_result"
    }
   ],
   "source": [
    "MPST_df.head()"
   ]
  },
  {
   "cell_type": "code",
   "execution_count": 0,
   "metadata": {
    "application/vnd.databricks.v1+cell": {
     "cellMetadata": {
      "byteLimit": 2048000,
      "rowLimit": 10000
     },
     "inputWidgets": {},
     "nuid": "f2fbb13f-f0f1-4c60-9d1c-0727e71b4b64",
     "showTitle": false,
     "tableResultSettingsMap": {},
     "title": ""
    }
   },
   "outputs": [],
   "source": [
    "import ast\n",
    "\n",
    "# Convert the 'tags' column from string representation of lists to actual lists\n",
    "MPST_df['tags'] = MPST_df['tags'].apply(lambda x: ast.literal_eval(x) if isinstance(x, str) else x)\n",
    "\n",
    "# Extract all unique tags, stripping whitespace and removing duplicates\n",
    "unique_tags = set()\n",
    "\n",
    "for tag_list in MPST_df['tags']:\n",
    "    cleaned_tags = [tag.strip().replace(\"'\", \"\").replace('\"', '') for tag in tag_list]  # Remove extra spaces and quotes\n",
    "    unique_tags.update(cleaned_tags)\n",
    "\n",
    "# Convert to a sorted list\n",
    "fixed_tags = sorted(unique_tags)"
   ]
  },
  {
   "cell_type": "code",
   "execution_count": 0,
   "metadata": {
    "application/vnd.databricks.v1+cell": {
     "cellMetadata": {
      "byteLimit": 2048000,
      "rowLimit": 10000
     },
     "inputWidgets": {},
     "nuid": "62d43b93-773e-4ef0-9f8d-542f065ac477",
     "showTitle": false,
     "tableResultSettingsMap": {},
     "title": ""
    }
   },
   "outputs": [
    {
     "output_type": "execute_result",
     "data": {
      "text/plain": [
       "71"
      ]
     },
     "execution_count": 25,
     "metadata": {},
     "output_type": "execute_result"
    }
   ],
   "source": [
    "fixed_tags\n",
    "len(fixed_tags)"
   ]
  },
  {
   "cell_type": "markdown",
   "metadata": {
    "application/vnd.databricks.v1+cell": {
     "cellMetadata": {},
     "inputWidgets": {},
     "nuid": "a3b6327c-8792-4f3a-a848-0ce6b7e99556",
     "showTitle": false,
     "tableResultSettingsMap": {},
     "title": ""
    }
   },
   "source": [
    "\n",
    "### Baseline model: MLP-BoW"
   ]
  },
  {
   "cell_type": "code",
   "execution_count": 0,
   "metadata": {
    "application/vnd.databricks.v1+cell": {
     "cellMetadata": {
      "byteLimit": 2048000,
      "rowLimit": 10000
     },
     "inputWidgets": {},
     "nuid": "8bfaf287-7109-48b2-9d1b-a923664439c0",
     "showTitle": false,
     "tableResultSettingsMap": {},
     "title": ""
    }
   },
   "outputs": [],
   "source": [
    "dataset_for_baseline = MPST_df.copy()\n",
    "dataset_for_baseline['text'] = (\n",
    "    'Title: ' + dataset_for_baseline['title'] + '. ' +\n",
    "    'Synopsis: ' + dataset_for_baseline['plot_synopsis'] + '. ' +\n",
    "    'Award: ' + dataset_for_baseline['award_label'] + '.'\n",
    ")"
   ]
  },
  {
   "cell_type": "code",
   "execution_count": 0,
   "metadata": {
    "application/vnd.databricks.v1+cell": {
     "cellMetadata": {
      "byteLimit": 2048000,
      "rowLimit": 10000
     },
     "inputWidgets": {},
     "nuid": "8153d424-60e3-4f17-902e-d25972532e0d",
     "showTitle": false,
     "tableResultSettingsMap": {},
     "title": ""
    }
   },
   "outputs": [
    {
     "output_type": "execute_result",
     "data": {
      "text/html": [
       "<div>\n",
       "<style scoped>\n",
       "    .dataframe tbody tr th:only-of-type {\n",
       "        vertical-align: middle;\n",
       "    }\n",
       "\n",
       "    .dataframe tbody tr th {\n",
       "        vertical-align: top;\n",
       "    }\n",
       "\n",
       "    .dataframe thead th {\n",
       "        text-align: right;\n",
       "    }\n",
       "</style>\n",
       "<table border=\"1\" class=\"dataframe\">\n",
       "  <thead>\n",
       "    <tr style=\"text-align: right;\">\n",
       "      <th></th>\n",
       "      <th>imdb_id</th>\n",
       "      <th>title</th>\n",
       "      <th>plot_synopsis</th>\n",
       "      <th>tags</th>\n",
       "      <th>split</th>\n",
       "      <th>award_label</th>\n",
       "      <th>num_tags</th>\n",
       "      <th>title_length</th>\n",
       "      <th>plot_length</th>\n",
       "      <th>award_label_length</th>\n",
       "      <th>text</th>\n",
       "    </tr>\n",
       "  </thead>\n",
       "  <tbody>\n",
       "    <tr>\n",
       "      <th>0</th>\n",
       "      <td>tt0057603</td>\n",
       "      <td>I tre volti della paura</td>\n",
       "      <td>Note: this synopsis is for the orginal Italian...</td>\n",
       "      <td>[cult,  horror,  gothic,  murder,  atmospheric]</td>\n",
       "      <td>train</td>\n",
       "      <td>No award</td>\n",
       "      <td>5</td>\n",
       "      <td>23</td>\n",
       "      <td>7527</td>\n",
       "      <td>8</td>\n",
       "      <td>Title: I tre volti della paura. Synopsis: Note...</td>\n",
       "    </tr>\n",
       "    <tr>\n",
       "      <th>1</th>\n",
       "      <td>tt1733125</td>\n",
       "      <td>Dungeons &amp; Dragons: The Book of Vile Darkness</td>\n",
       "      <td>Two thousand years ago, Nhagruul the Foul, a s...</td>\n",
       "      <td>[violence]</td>\n",
       "      <td>train</td>\n",
       "      <td>No award</td>\n",
       "      <td>1</td>\n",
       "      <td>45</td>\n",
       "      <td>2077</td>\n",
       "      <td>8</td>\n",
       "      <td>Title: Dungeons &amp; Dragons: The Book of Vile Da...</td>\n",
       "    </tr>\n",
       "    <tr>\n",
       "      <th>2</th>\n",
       "      <td>tt0033045</td>\n",
       "      <td>The Shop Around the Corner</td>\n",
       "      <td>Matuschek's, a gift store in Budapest, is the ...</td>\n",
       "      <td>[romantic]</td>\n",
       "      <td>test</td>\n",
       "      <td>No award</td>\n",
       "      <td>1</td>\n",
       "      <td>26</td>\n",
       "      <td>4003</td>\n",
       "      <td>8</td>\n",
       "      <td>Title: The Shop Around the Corner. Synopsis: M...</td>\n",
       "    </tr>\n",
       "    <tr>\n",
       "      <th>3</th>\n",
       "      <td>tt0113862</td>\n",
       "      <td>Mr. Holland's Opus</td>\n",
       "      <td>Glenn Holland, not a morning person by anyone'...</td>\n",
       "      <td>[inspiring,  romantic,  stupid,  feel-good]</td>\n",
       "      <td>train</td>\n",
       "      <td>No award</td>\n",
       "      <td>4</td>\n",
       "      <td>18</td>\n",
       "      <td>13215</td>\n",
       "      <td>8</td>\n",
       "      <td>Title: Mr. Holland's Opus. Synopsis: Glenn Hol...</td>\n",
       "    </tr>\n",
       "    <tr>\n",
       "      <th>4</th>\n",
       "      <td>tt0086250</td>\n",
       "      <td>Scarface</td>\n",
       "      <td>In May 1980, a Cuban man named Tony Montana (A...</td>\n",
       "      <td>[cruelty,  murder,  dramatic,  cult,  violence...</td>\n",
       "      <td>val</td>\n",
       "      <td>No award</td>\n",
       "      <td>10</td>\n",
       "      <td>8</td>\n",
       "      <td>17575</td>\n",
       "      <td>8</td>\n",
       "      <td>Title: Scarface. Synopsis: In May 1980, a Cuba...</td>\n",
       "    </tr>\n",
       "  </tbody>\n",
       "</table>\n",
       "</div>"
      ],
      "text/plain": [
       "     imdb_id  ...                                               text\n",
       "0  tt0057603  ...  Title: I tre volti della paura. Synopsis: Note...\n",
       "1  tt1733125  ...  Title: Dungeons & Dragons: The Book of Vile Da...\n",
       "2  tt0033045  ...  Title: The Shop Around the Corner. Synopsis: M...\n",
       "3  tt0113862  ...  Title: Mr. Holland's Opus. Synopsis: Glenn Hol...\n",
       "4  tt0086250  ...  Title: Scarface. Synopsis: In May 1980, a Cuba...\n",
       "\n",
       "[5 rows x 11 columns]"
      ]
     },
     "execution_count": 28,
     "metadata": {},
     "output_type": "execute_result"
    }
   ],
   "source": [
    "dataset_for_baseline.head()"
   ]
  },
  {
   "cell_type": "code",
   "execution_count": 0,
   "metadata": {
    "application/vnd.databricks.v1+cell": {
     "cellMetadata": {
      "byteLimit": 2048000,
      "rowLimit": 10000
     },
     "inputWidgets": {},
     "nuid": "2947d0a8-5d39-48d0-8e69-8898eb5d4cd5",
     "showTitle": false,
     "tableResultSettingsMap": {},
     "title": ""
    }
   },
   "outputs": [
    {
     "output_type": "stream",
     "name": "stdout",
     "output_type": "stream",
     "text": [
      "0\n"
     ]
    }
   ],
   "source": [
    "print(dataset_for_baseline['tags'].isna().sum())  # Count NaN values\n"
   ]
  },
  {
   "cell_type": "code",
   "execution_count": 0,
   "metadata": {
    "application/vnd.databricks.v1+cell": {
     "cellMetadata": {
      "byteLimit": 2048000,
      "rowLimit": 10000
     },
     "inputWidgets": {},
     "nuid": "1da8c834-d3df-4538-9379-dec80db2d7cb",
     "showTitle": false,
     "tableResultSettingsMap": {},
     "title": ""
    }
   },
   "outputs": [],
   "source": [
    "FALLBACK_THRESHOLD = 0.2\n",
    "\n",
    "mlb = MultiLabelBinarizer(classes=fixed_tags)\n",
    "y = mlb.fit_transform(dataset_for_baseline['tags'])\n",
    "\n",
    "#Create Bag-of-Words representation using the 50,000 most frequent words\n",
    "vectorizer = CountVectorizer(max_features=50000, stop_words='english')  #Limit to the 50,000 most frequent words\n",
    "X = vectorizer.fit_transform(dataset_for_baseline['text'])\n",
    "\n",
    "# Combine train and validation data for training\n",
    "X_train = X[dataset_for_baseline['split'].isin(['train', 'val'])]\n",
    "y_train = y[dataset_for_baseline['split'].isin(['train', 'val'])]\n",
    "X_test = X[dataset_for_baseline['split'] == 'test']\n",
    "y_test = y[dataset_for_baseline['split'] == 'test']\n",
    "\n",
    "# convert to tensors for PyTorch\n",
    "X_train_tensor = torch.tensor(X_train.toarray(), dtype=torch.float32)\n",
    "y_train_tensor = torch.tensor(y_train, dtype=torch.float32)\n",
    "X_test_tensor = torch.tensor(X_test.toarray(), dtype=torch.float32)\n",
    "y_test_tensor = torch.tensor(y_test, dtype=torch.float32)\n",
    "\n",
    "# create datasets and loaders\n",
    "train_dataset = TensorDataset(X_train_tensor, y_train_tensor)\n",
    "test_dataset = TensorDataset(X_test_tensor, y_test_tensor)\n",
    "train_loader = DataLoader(train_dataset, batch_size=32, shuffle=True)\n",
    "test_loader = DataLoader(test_dataset, batch_size=32, shuffle=False)\n",
    "\n",
    "# define the MLP model with L2 normalization in each hidden layer, dropout, and the specified number of nodes\n",
    "class MLPWithL2Normalization(nn.Module):\n",
    "    def __init__(self, input_size, output_size):\n",
    "        super(MLPWithL2Normalization, self).__init__()\n",
    "        self.fc1 = nn.Linear(input_size, 512)  # First hidden layer with 512 nodes\n",
    "        self.fc2 = nn.Linear(512, 256)  # Second hidden layer with 256 nodes\n",
    "        self.fc3 = nn.Linear(256, output_size)  # Output layer\n",
    "        \n",
    "        self.relu = nn.ReLU()\n",
    "        self.dropout = nn.Dropout(p=0.5)  # Dropout rate\n",
    "\n",
    "    def forward(self, x):\n",
    "        x = self.fc1(x)\n",
    "        x = nn.functional.normalize(x, p=2, dim=1)  # L2 normalization\n",
    "        x = self.relu(x)\n",
    "        x = self.dropout(x)  # apply dropout\n",
    "        \n",
    "        x = self.fc2(x)\n",
    "        x = nn.functional.normalize(x, p=2, dim=1)  # L2 normalization\n",
    "        x = self.relu(x)\n",
    "        x = self.dropout(x)  # apply dropout\n",
    "        \n",
    "        x = self.fc3(x)\n",
    "        return torch.sigmoid(x)  #output layer with sigmoid for multi-label classification\n",
    "\n",
    "#instantiate and train the model\n",
    "input_size = X_train_tensor.shape[1]\n",
    "output_size = y_train_tensor.shape[1]\n",
    "model = MLPWithL2Normalization(input_size, output_size)\n",
    "\n",
    "#loss and optimizer\n",
    "criterion = nn.BCELoss()  # Binary Cross-Entropy for multi-label classification\n",
    "optimizer = torch.optim.Adam(model.parameters(), lr=0.01) \n",
    "\n",
    "# 12 epochs\n",
    "num_epochs = 12\n",
    "for epoch in range(num_epochs):\n",
    "    model.train()\n",
    "    for X_batch, y_batch in train_loader:\n",
    "        optimizer.zero_grad()\n",
    "        y_pred = model(X_batch)\n",
    "        loss = criterion(y_pred, y_batch)\n",
    "        loss.backward()\n",
    "        optimizer.step()\n",
    "\n",
    "model.eval()\n",
    "y_pred_proba = model(X_test_tensor).detach().numpy()  # Predict probabilities on test set\n",
    "y_pred_with_fallback = []\n",
    "\n",
    "for i in range(len(y_pred_proba)):\n",
    "    sample_proba = y_pred_proba[i]\n",
    "    \n",
    "    sorted_tags = sorted(enumerate(sample_proba), key=lambda x: x[1], reverse=True)\n",
    "    \n",
    "    #select tags above the fallback threshold\n",
    "    high_prob_tags = [\n",
    "        mlb.classes_[j] for j, prob in sorted_tags\n",
    "        if prob >= FALLBACK_THRESHOLD\n",
    "    ][:10]  \n",
    "    \n",
    "    #fallback to the highest probability tag if no tags meet the threshold\n",
    "    if not high_prob_tags:\n",
    "        highest_prob_index = np.argmax(sample_proba)\n",
    "        high_prob_tags = [mlb.classes_[highest_prob_index]]\n",
    "    \n",
    "    y_pred_with_fallback.append(high_prob_tags)\n",
    "\n",
    "#prepare actual tags for comparison\n",
    "actual_tags = mlb.inverse_transform(y_test)\n",
    "\n",
    "test_df_baseline = pd.DataFrame({\n",
    "    'PROGRAM_ID': dataset_for_baseline.loc[dataset_for_baseline['split'] == 'test', 'imdb_id'].values,\n",
    "    'TITLE': dataset_for_baseline.loc[dataset_for_baseline['split'] == 'test', 'title'].values,\n",
    "    'Generated_Tags': y_pred_with_fallback,\n",
    "    'Actual_Tags': actual_tags\n",
    "})\n",
    "\n",
    "test_df_baseline.head()"
   ]
  },
  {
   "cell_type": "code",
   "execution_count": 0,
   "metadata": {
    "application/vnd.databricks.v1+cell": {
     "cellMetadata": {
      "byteLimit": 2048000,
      "rowLimit": 10000
     },
     "inputWidgets": {},
     "nuid": "bab29ab3-2845-4747-a89c-942c41a59d3d",
     "showTitle": false,
     "tableResultSettingsMap": {},
     "title": ""
    }
   },
   "outputs": [],
   "source": [
    "test_df_baseline['Matching_Tags_Count'] = test_df_baseline.apply(\n",
    "    lambda row: len(set(row['Generated_Tags']).intersection(set(row['Actual_Tags']))), axis=1\n",
    ")\n",
    "\n",
    "test_df_baseline"
   ]
  },
  {
   "cell_type": "code",
   "execution_count": 0,
   "metadata": {
    "application/vnd.databricks.v1+cell": {
     "cellMetadata": {
      "byteLimit": 2048000,
      "rowLimit": 10000
     },
     "inputWidgets": {},
     "nuid": "68337a33-4d5e-4df8-9169-1dae9a0445f5",
     "showTitle": false,
     "tableResultSettingsMap": {},
     "title": ""
    }
   },
   "outputs": [],
   "source": [
    "# ## Save output table to unity catalog\n",
    "# pyspark_test_df_baseline = spark.createDataFrame(test_df_baseline)\n",
    "# result_test_df_baseline = \"dev_data_science.mpst_dataset.results_baseline\"\n",
    "\n",
    "# # Save the DataFrame as a Delta table in Unity Catalog\n",
    "# pyspark_test_df_baseline.write \\\n",
    "#     .format(\"delta\") \\\n",
    "#     .mode(\"overwrite\") \\\n",
    "#     .saveAsTable(result_test_df_baseline)\n",
    "\n",
    "## Import or read the table again later\n",
    "results_baseline = spark.read.table(\"dev_data_science.mpst_dataset.results_baseline\")\n",
    "results_baseline = results_baseline.toPandas()"
   ]
  },
  {
   "cell_type": "code",
   "execution_count": 0,
   "metadata": {
    "application/vnd.databricks.v1+cell": {
     "cellMetadata": {
      "byteLimit": 2048000,
      "rowLimit": 10000
     },
     "inputWidgets": {},
     "nuid": "b5b3172a-6365-4359-97a2-2188e98ba7e9",
     "showTitle": false,
     "tableResultSettingsMap": {},
     "title": ""
    }
   },
   "outputs": [
    {
     "output_type": "execute_result",
     "data": {
      "text/html": [
       "<div>\n",
       "<style scoped>\n",
       "    .dataframe tbody tr th:only-of-type {\n",
       "        vertical-align: middle;\n",
       "    }\n",
       "\n",
       "    .dataframe tbody tr th {\n",
       "        vertical-align: top;\n",
       "    }\n",
       "\n",
       "    .dataframe thead th {\n",
       "        text-align: right;\n",
       "    }\n",
       "</style>\n",
       "<table border=\"1\" class=\"dataframe\">\n",
       "  <thead>\n",
       "    <tr style=\"text-align: right;\">\n",
       "      <th></th>\n",
       "      <th>PROGRAM_ID</th>\n",
       "      <th>TITLE</th>\n",
       "      <th>Generated_Tags</th>\n",
       "      <th>Actual_Tags</th>\n",
       "      <th>Matching_Tags_Count</th>\n",
       "    </tr>\n",
       "  </thead>\n",
       "  <tbody>\n",
       "    <tr>\n",
       "      <th>0</th>\n",
       "      <td>tt0033045</td>\n",
       "      <td>The Shop Around the Corner</td>\n",
       "      <td>[comedy, romantic, entertaining, flashback]</td>\n",
       "      <td>[romantic]</td>\n",
       "      <td>1</td>\n",
       "    </tr>\n",
       "    <tr>\n",
       "      <th>1</th>\n",
       "      <td>tt1937113</td>\n",
       "      <td>Call of Duty: Modern Warfare 3</td>\n",
       "      <td>[violence, flashback, murder, action, suspense...</td>\n",
       "      <td>[good versus evil]</td>\n",
       "      <td>0</td>\n",
       "    </tr>\n",
       "    <tr>\n",
       "      <th>2</th>\n",
       "      <td>tt0102007</td>\n",
       "      <td>The Haunted</td>\n",
       "      <td>[paranormal, horror]</td>\n",
       "      <td>[haunting, horror, paranormal]</td>\n",
       "      <td>2</td>\n",
       "    </tr>\n",
       "    <tr>\n",
       "      <th>3</th>\n",
       "      <td>tt2005374</td>\n",
       "      <td>The Frozen Ground</td>\n",
       "      <td>[murder, violence]</td>\n",
       "      <td>[dramatic, murder]</td>\n",
       "      <td>1</td>\n",
       "    </tr>\n",
       "    <tr>\n",
       "      <th>4</th>\n",
       "      <td>tt1411238</td>\n",
       "      <td>No Strings Attached</td>\n",
       "      <td>[romantic, pornographic]</td>\n",
       "      <td>[adult comedy, boring, cute, entertaining, fla...</td>\n",
       "      <td>1</td>\n",
       "    </tr>\n",
       "    <tr>\n",
       "      <th>...</th>\n",
       "      <td>...</td>\n",
       "      <td>...</td>\n",
       "      <td>...</td>\n",
       "      <td>...</td>\n",
       "      <td>...</td>\n",
       "    </tr>\n",
       "    <tr>\n",
       "      <th>2891</th>\n",
       "      <td>tt0105585</td>\n",
       "      <td>Thunderheart</td>\n",
       "      <td>[murder]</td>\n",
       "      <td>[flashback, murder, suspenseful]</td>\n",
       "      <td>1</td>\n",
       "    </tr>\n",
       "    <tr>\n",
       "      <th>2892</th>\n",
       "      <td>tt1869716</td>\n",
       "      <td>The East</td>\n",
       "      <td>[murder, flashback, comedy, suspenseful, psych...</td>\n",
       "      <td>[neo noir, revenge, sentimental, suspenseful, ...</td>\n",
       "      <td>2</td>\n",
       "    </tr>\n",
       "    <tr>\n",
       "      <th>2893</th>\n",
       "      <td>tt0219952</td>\n",
       "      <td>Lucky Numbers</td>\n",
       "      <td>[comedy, cult]</td>\n",
       "      <td>[comedy, murder]</td>\n",
       "      <td>1</td>\n",
       "    </tr>\n",
       "    <tr>\n",
       "      <th>2894</th>\n",
       "      <td>tt0039464</td>\n",
       "      <td>High Wall</td>\n",
       "      <td>[murder, flashback]</td>\n",
       "      <td>[murder]</td>\n",
       "      <td>1</td>\n",
       "    </tr>\n",
       "    <tr>\n",
       "      <th>2895</th>\n",
       "      <td>tt0235166</td>\n",
       "      <td>Against All Hope</td>\n",
       "      <td>[romantic, flashback, sentimental, dramatic, v...</td>\n",
       "      <td>[christian film]</td>\n",
       "      <td>0</td>\n",
       "    </tr>\n",
       "  </tbody>\n",
       "</table>\n",
       "<p>2896 rows × 5 columns</p>\n",
       "</div>"
      ],
      "text/plain": [
       "     PROGRAM_ID  ... Matching_Tags_Count\n",
       "0     tt0033045  ...                   1\n",
       "1     tt1937113  ...                   0\n",
       "2     tt0102007  ...                   2\n",
       "3     tt2005374  ...                   1\n",
       "4     tt1411238  ...                   1\n",
       "...         ...  ...                 ...\n",
       "2891  tt0105585  ...                   1\n",
       "2892  tt1869716  ...                   2\n",
       "2893  tt0219952  ...                   1\n",
       "2894  tt0039464  ...                   1\n",
       "2895  tt0235166  ...                   0\n",
       "\n",
       "[2896 rows x 5 columns]"
      ]
     },
     "execution_count": 39,
     "metadata": {},
     "output_type": "execute_result"
    }
   ],
   "source": [
    "results_baseline"
   ]
  },
  {
   "cell_type": "markdown",
   "metadata": {
    "application/vnd.databricks.v1+cell": {
     "cellMetadata": {},
     "inputWidgets": {},
     "nuid": "532ed916-57e1-4722-83d4-ba3d88f6a634",
     "showTitle": false,
     "tableResultSettingsMap": {},
     "title": ""
    }
   },
   "source": [
    "\n",
    "#### Zero-shot (pre-trained) GPT-4o"
   ]
  },
  {
   "cell_type": "markdown",
   "metadata": {
    "application/vnd.databricks.v1+cell": {
     "cellMetadata": {},
     "inputWidgets": {},
     "nuid": "de892b04-e087-427d-8f88-09a020821ff6",
     "showTitle": false,
     "tableResultSettingsMap": {},
     "title": ""
    }
   },
   "source": [
    "Because the pre-trained GPT model will not train on our own data, we extract the test values from the original dataset as a test set."
   ]
  },
  {
   "cell_type": "code",
   "execution_count": 0,
   "metadata": {
    "application/vnd.databricks.v1+cell": {
     "cellMetadata": {
      "byteLimit": 2048000,
      "rowLimit": 10000
     },
     "inputWidgets": {},
     "nuid": "0a4c1c1d-df7a-4fbe-9c5d-d329b7a71940",
     "showTitle": false,
     "tableResultSettingsMap": {},
     "title": ""
    }
   },
   "outputs": [
    {
     "output_type": "execute_result",
     "data": {
      "text/html": [
       "<div>\n",
       "<style scoped>\n",
       "    .dataframe tbody tr th:only-of-type {\n",
       "        vertical-align: middle;\n",
       "    }\n",
       "\n",
       "    .dataframe tbody tr th {\n",
       "        vertical-align: top;\n",
       "    }\n",
       "\n",
       "    .dataframe thead th {\n",
       "        text-align: right;\n",
       "    }\n",
       "</style>\n",
       "<table border=\"1\" class=\"dataframe\">\n",
       "  <thead>\n",
       "    <tr style=\"text-align: right;\">\n",
       "      <th></th>\n",
       "      <th>imdb_id</th>\n",
       "      <th>title</th>\n",
       "      <th>plot_synopsis</th>\n",
       "      <th>tags</th>\n",
       "      <th>split</th>\n",
       "      <th>award_label</th>\n",
       "      <th>num_tags</th>\n",
       "      <th>title_length</th>\n",
       "      <th>plot_length</th>\n",
       "      <th>award_label_length</th>\n",
       "    </tr>\n",
       "  </thead>\n",
       "  <tbody>\n",
       "    <tr>\n",
       "      <th>0</th>\n",
       "      <td>tt0033045</td>\n",
       "      <td>The Shop Around the Corner</td>\n",
       "      <td>Matuschek's, a gift store in Budapest, is the ...</td>\n",
       "      <td>[romantic]</td>\n",
       "      <td>test</td>\n",
       "      <td>No award</td>\n",
       "      <td>1</td>\n",
       "      <td>26</td>\n",
       "      <td>4003</td>\n",
       "      <td>8</td>\n",
       "    </tr>\n",
       "    <tr>\n",
       "      <th>1</th>\n",
       "      <td>tt1937113</td>\n",
       "      <td>Call of Duty: Modern Warfare 3</td>\n",
       "      <td>Hours after the end of the previous game and t...</td>\n",
       "      <td>[good versus evil]</td>\n",
       "      <td>test</td>\n",
       "      <td>No award</td>\n",
       "      <td>1</td>\n",
       "      <td>30</td>\n",
       "      <td>14242</td>\n",
       "      <td>8</td>\n",
       "    </tr>\n",
       "    <tr>\n",
       "      <th>2</th>\n",
       "      <td>tt0102007</td>\n",
       "      <td>The Haunted</td>\n",
       "      <td>This creepy and scary story centers around The...</td>\n",
       "      <td>[paranormal,  horror,  haunting]</td>\n",
       "      <td>test</td>\n",
       "      <td>No award</td>\n",
       "      <td>3</td>\n",
       "      <td>11</td>\n",
       "      <td>934</td>\n",
       "      <td>8</td>\n",
       "    </tr>\n",
       "    <tr>\n",
       "      <th>3</th>\n",
       "      <td>tt2005374</td>\n",
       "      <td>The Frozen Ground</td>\n",
       "      <td>The film opens in an Anchorage motel room in 1...</td>\n",
       "      <td>[dramatic,  murder]</td>\n",
       "      <td>test</td>\n",
       "      <td>No award</td>\n",
       "      <td>2</td>\n",
       "      <td>17</td>\n",
       "      <td>5006</td>\n",
       "      <td>8</td>\n",
       "    </tr>\n",
       "    <tr>\n",
       "      <th>4</th>\n",
       "      <td>tt1411238</td>\n",
       "      <td>No Strings Attached</td>\n",
       "      <td>15 years agoWe see two young kids, named Emma ...</td>\n",
       "      <td>[boring,  adult comedy,  cute,  flashback,  ro...</td>\n",
       "      <td>test</td>\n",
       "      <td>No award</td>\n",
       "      <td>6</td>\n",
       "      <td>19</td>\n",
       "      <td>10773</td>\n",
       "      <td>8</td>\n",
       "    </tr>\n",
       "  </tbody>\n",
       "</table>\n",
       "</div>"
      ],
      "text/plain": [
       "     imdb_id                           title  ... plot_length award_label_length\n",
       "0  tt0033045      The Shop Around the Corner  ...        4003                  8\n",
       "1  tt1937113  Call of Duty: Modern Warfare 3  ...       14242                  8\n",
       "2  tt0102007                     The Haunted  ...         934                  8\n",
       "3  tt2005374               The Frozen Ground  ...        5006                  8\n",
       "4  tt1411238             No Strings Attached  ...       10773                  8\n",
       "\n",
       "[5 rows x 10 columns]"
      ]
     },
     "execution_count": 35,
     "metadata": {},
     "output_type": "execute_result"
    }
   ],
   "source": [
    "test_ids = results_baseline['PROGRAM_ID'].tolist()\n",
    "pretrained_GPT_dataset = MPST_df[MPST_df['imdb_id'].isin(test_ids)]\n",
    "pretrained_GPT_dataset = pretrained_GPT_dataset.reset_index(drop=True)\n",
    "pretrained_GPT_dataset.head()"
   ]
  },
  {
   "cell_type": "code",
   "execution_count": 0,
   "metadata": {
    "application/vnd.databricks.v1+cell": {
     "cellMetadata": {
      "byteLimit": 2048000,
      "rowLimit": 10000
     },
     "inputWidgets": {},
     "nuid": "6c5f493a-b371-4c18-a468-7aa00270a327",
     "showTitle": false,
     "tableResultSettingsMap": {},
     "title": ""
    }
   },
   "outputs": [],
   "source": [
    "def initialize_openai_api():\n",
    "    \"\"\" Initialize all environment variables to work correctly with openai. This\n",
    "    was made to work with the package openai==1.38.0 \"\"\"\n",
    "\n",
    "    os.environ['OPENAI_API_KEY'] = \"REDACTED\"\n",
    "    openai.api_type = \"azure\"\n",
    "    openai.azure_endpoint = \"REDACTED\"\n",
    "    openai.api_version = \"2024-02-01\"\n",
    "\n",
    "initialize_openai_api()"
   ]
  },
  {
   "cell_type": "code",
   "execution_count": 0,
   "metadata": {
    "application/vnd.databricks.v1+cell": {
     "cellMetadata": {},
     "inputWidgets": {},
     "nuid": "3cda67b1-7739-4e3c-a700-b0889ce2a96c",
     "showTitle": false,
     "tableResultSettingsMap": {},
     "title": ""
    }
   },
   "outputs": [],
   "source": [
    "pretrained_model = \"gpt-4o\"  \n",
    "\n",
    "def truncate_text(text, max_length):\n",
    "    return text[:max_length] + '...' if len(text) > max_length else text\n",
    "\n",
    "#formatting and send prompt to GPT model\n",
    "@retry(wait=wait_random_exponential(min=1, max=90), stop=stop_after_attempt(6))\n",
    "def generate_tags_gpt(title, description, award, tag_list, max_tokens=50, temperature=0.0, model):\n",
    "    #set truncation limits for the inputs\n",
    "    max_title_length = 50   \n",
    "    max_description_length = 10000  \n",
    "    max_award_length = 50  \n",
    "    \n",
    "    # truncate inputs to avoid exceeding context limit\n",
    "    title = truncate_text(title, max_title_length)\n",
    "    description = truncate_text(description, max_description_length)\n",
    "    award = truncate_text(award, max_award_length)\n",
    "    \n",
    "    # log the truncated inputs (optional, for debugging)\n",
    "    print(f\"Truncated Title: {title}\")\n",
    "    print(f\"Truncated Description: {description}\")\n",
    "    print(f\"Truncated Award: {award}\")\n",
    "    \n",
    "    #prompt\n",
    "    prompt = f\"\"\"\n",
    "    Based on the title, synopsis, and possible awards of a movie or series, please generate tags from this list: {', '.join(tag_list)}.\n",
    "\n",
    "    Title: {title}\n",
    "    Synopsis: {description}\n",
    "    Award: {award}\n",
    "\n",
    "    Return tags from the fixed list that seem the most relevant to the entry, and hold a strict maximum of ten tags per entry. Always give at least one. Avoid duplicates at all costs.\n",
    "    \"\"\"\n",
    "    \n",
    "    ## ensure the total prompt length is within the token limit (model context limit - max_tokens for output)\n",
    "    total_prompt_length = len(prompt)\n",
    "    max_allowed_prompt_length = 50000 - max_tokens \n",
    "    if total_prompt_length > max_allowed_prompt_length:\n",
    "        raise ValueError(f\"Prompt length exceeds limit: {total_prompt_length} tokens\")\n",
    "\n",
    "    ## call the API\n",
    "    response = openai.chat.completions.create(\n",
    "        model=model,\n",
    "        messages=[\n",
    "            {\"role\": \"system\", \"content\": \"You are a helpful assistant that generates tags for movies or series.\"},\n",
    "            {\"role\": \"user\", \"content\": prompt}\n",
    "        ],\n",
    "        max_tokens=max_tokens,\n",
    "        temperature=temperature\n",
    "    )\n",
    "    \n",
    "    # Process the response\n",
    "    if response and response.choices and response.choices[0].message and response.choices[0].message.content:\n",
    "        generated_tags = response.choices[0].message.content.strip().split(', ')\n",
    "        # Filter to ensure tags are from the predefined list\n",
    "        filtered_tags = [tag for tag in generated_tags if tag in tag_list]\n",
    "    else:\n",
    "        raise ValueError(\"Invalid response from OpenAI API\")\n",
    "    \n",
    "    return filtered_tags[:10] "
   ]
  },
  {
   "cell_type": "code",
   "execution_count": 0,
   "metadata": {
    "application/vnd.databricks.v1+cell": {
     "cellMetadata": {},
     "inputWidgets": {},
     "nuid": "f88631b2-0f1f-469c-9720-9d42ec8748fe",
     "showTitle": false,
     "tableResultSettingsMap": {},
     "title": ""
    }
   },
   "outputs": [],
   "source": [
    "subset_pretrained = pretrained_GPT_dataset\n",
    "subset_pretrained['Generated_Tags'] = subset_pretrained.apply(lambda x: generate_tags_gpt(x['title'], x['plot_synopsis'], x['award_label'], fixed_tags, pretrained_model), axis=1)"
   ]
  },
  {
   "cell_type": "code",
   "execution_count": 0,
   "metadata": {
    "application/vnd.databricks.v1+cell": {
     "cellMetadata": {
      "byteLimit": 2048000,
      "rowLimit": 10000
     },
     "inputWidgets": {},
     "nuid": "7c7c4fcc-8924-4e6e-878f-3eedaadfbdfa",
     "showTitle": false,
     "tableResultSettingsMap": {},
     "title": ""
    }
   },
   "outputs": [],
   "source": [
    "# ## Save output table to unity catalog\n",
    "# pyspark_subset_pretrained = spark.createDataFrame(subset_pretrained)\n",
    "# results_pretrained = \"dev_data_science.mpst_dataset.results_pretrained2\"\n",
    "\n",
    "# # Save the DataFrame as a Delta table in Unity Catalog\n",
    "# pyspark_subset_pretrained.write \\\n",
    "#     .format(\"delta\") \\\n",
    "#     .mode(\"overwrite\") \\\n",
    "#     .saveAsTable(results_pretrained)\n",
    "\n",
    "# ## Import or read the table again later\n",
    "results_pretrained = spark.read.table(\"dev_data_science.mpst_dataset.results_pretrained2\")\n",
    "results_pretrained = results_pretrained.toPandas()"
   ]
  },
  {
   "cell_type": "code",
   "execution_count": 0,
   "metadata": {
    "application/vnd.databricks.v1+cell": {
     "cellMetadata": {
      "byteLimit": 2048000,
      "rowLimit": 10000
     },
     "inputWidgets": {},
     "nuid": "e795ea38-4804-4fc7-8412-c7a4f602ba37",
     "showTitle": false,
     "tableResultSettingsMap": {},
     "title": ""
    }
   },
   "outputs": [
    {
     "output_type": "execute_result",
     "data": {
      "text/html": [
       "<div>\n",
       "<style scoped>\n",
       "    .dataframe tbody tr th:only-of-type {\n",
       "        vertical-align: middle;\n",
       "    }\n",
       "\n",
       "    .dataframe tbody tr th {\n",
       "        vertical-align: top;\n",
       "    }\n",
       "\n",
       "    .dataframe thead th {\n",
       "        text-align: right;\n",
       "    }\n",
       "</style>\n",
       "<table border=\"1\" class=\"dataframe\">\n",
       "  <thead>\n",
       "    <tr style=\"text-align: right;\">\n",
       "      <th></th>\n",
       "      <th>imdb_id</th>\n",
       "      <th>title</th>\n",
       "      <th>plot_synopsis</th>\n",
       "      <th>tags</th>\n",
       "      <th>split</th>\n",
       "      <th>synopsis_source</th>\n",
       "      <th>award_label</th>\n",
       "      <th>tag_count</th>\n",
       "      <th>Generated_Tags</th>\n",
       "    </tr>\n",
       "  </thead>\n",
       "  <tbody>\n",
       "    <tr>\n",
       "      <th>0</th>\n",
       "      <td>tt0033045</td>\n",
       "      <td>The Shop Around the Corner</td>\n",
       "      <td>Matuschek's, a gift store in Budapest, is the ...</td>\n",
       "      <td>[romantic]</td>\n",
       "      <td>test</td>\n",
       "      <td>imdb</td>\n",
       "      <td>No award</td>\n",
       "      <td>1</td>\n",
       "      <td>[romantic, comedy, dramatic, mystery, sentimen...</td>\n",
       "    </tr>\n",
       "    <tr>\n",
       "      <th>1</th>\n",
       "      <td>tt1937113</td>\n",
       "      <td>Call of Duty: Modern Warfare 3</td>\n",
       "      <td>Hours after the end of the previous game and t...</td>\n",
       "      <td>[good versus evil]</td>\n",
       "      <td>test</td>\n",
       "      <td>imdb</td>\n",
       "      <td>No award</td>\n",
       "      <td>1</td>\n",
       "      <td>[action, suspenseful, dramatic, revenge, viole...</td>\n",
       "    </tr>\n",
       "    <tr>\n",
       "      <th>2</th>\n",
       "      <td>tt0102007</td>\n",
       "      <td>The Haunted</td>\n",
       "      <td>This creepy and scary story centers around The...</td>\n",
       "      <td>[paranormal, horror, haunting]</td>\n",
       "      <td>test</td>\n",
       "      <td>imdb</td>\n",
       "      <td>No award</td>\n",
       "      <td>3</td>\n",
       "      <td>[horror, paranormal, dark, haunting, mystery, ...</td>\n",
       "    </tr>\n",
       "    <tr>\n",
       "      <th>3</th>\n",
       "      <td>tt2005374</td>\n",
       "      <td>The Frozen Ground</td>\n",
       "      <td>The film opens in an Anchorage motel room in 1...</td>\n",
       "      <td>[dramatic, murder]</td>\n",
       "      <td>test</td>\n",
       "      <td>wikipedia</td>\n",
       "      <td>No award</td>\n",
       "      <td>2</td>\n",
       "      <td>[suspenseful, dark, murder, psychological, mys...</td>\n",
       "    </tr>\n",
       "    <tr>\n",
       "      <th>4</th>\n",
       "      <td>tt1411238</td>\n",
       "      <td>No Strings Attached</td>\n",
       "      <td>15 years agoWe see two young kids, named Emma ...</td>\n",
       "      <td>[boring, adult comedy, cute, flashback, romant...</td>\n",
       "      <td>test</td>\n",
       "      <td>imdb</td>\n",
       "      <td>No award</td>\n",
       "      <td>6</td>\n",
       "      <td>[comedy, romantic, adult comedy, feel-good, dr...</td>\n",
       "    </tr>\n",
       "    <tr>\n",
       "      <th>...</th>\n",
       "      <td>...</td>\n",
       "      <td>...</td>\n",
       "      <td>...</td>\n",
       "      <td>...</td>\n",
       "      <td>...</td>\n",
       "      <td>...</td>\n",
       "      <td>...</td>\n",
       "      <td>...</td>\n",
       "      <td>...</td>\n",
       "    </tr>\n",
       "    <tr>\n",
       "      <th>2891</th>\n",
       "      <td>tt0105585</td>\n",
       "      <td>Thunderheart</td>\n",
       "      <td>During the early 1970s, FBI agent Ray Levoi is...</td>\n",
       "      <td>[suspenseful, murder, flashback]</td>\n",
       "      <td>test</td>\n",
       "      <td>wikipedia</td>\n",
       "      <td>No award</td>\n",
       "      <td>3</td>\n",
       "      <td>[mystery, historical fiction, suspenseful, int...</td>\n",
       "    </tr>\n",
       "    <tr>\n",
       "      <th>2892</th>\n",
       "      <td>tt1869716</td>\n",
       "      <td>The East</td>\n",
       "      <td>Jane, an operative for the private intelligenc...</td>\n",
       "      <td>[suspenseful, neo noir, violence, tragedy, rev...</td>\n",
       "      <td>test</td>\n",
       "      <td>wikipedia</td>\n",
       "      <td>No award</td>\n",
       "      <td>6</td>\n",
       "      <td>[intrigue, suspenseful, psychological, anti wa...</td>\n",
       "    </tr>\n",
       "    <tr>\n",
       "      <th>2893</th>\n",
       "      <td>tt0219952</td>\n",
       "      <td>Lucky Numbers</td>\n",
       "      <td>In 1988 Russ Richards (John Travolta), the wea...</td>\n",
       "      <td>[comedy, murder]</td>\n",
       "      <td>test</td>\n",
       "      <td>wikipedia</td>\n",
       "      <td>No award</td>\n",
       "      <td>2</td>\n",
       "      <td>[comedy, satire, dark, murder, intrigue, plot ...</td>\n",
       "    </tr>\n",
       "    <tr>\n",
       "      <th>2894</th>\n",
       "      <td>tt0039464</td>\n",
       "      <td>High Wall</td>\n",
       "      <td>Steven Kenet catches his unfaithful wife in th...</td>\n",
       "      <td>[murder]</td>\n",
       "      <td>test</td>\n",
       "      <td>wikipedia</td>\n",
       "      <td>No award</td>\n",
       "      <td>1</td>\n",
       "      <td>[mystery, psychological, suspenseful, murder, ...</td>\n",
       "    </tr>\n",
       "    <tr>\n",
       "      <th>2895</th>\n",
       "      <td>tt0235166</td>\n",
       "      <td>Against All Hope</td>\n",
       "      <td>Sometime in the 1950s in Chicago a man, Cecil ...</td>\n",
       "      <td>[christian film]</td>\n",
       "      <td>test</td>\n",
       "      <td>wikipedia</td>\n",
       "      <td>No award</td>\n",
       "      <td>1</td>\n",
       "      <td>[dark, psychological, depressing, christian fi...</td>\n",
       "    </tr>\n",
       "  </tbody>\n",
       "</table>\n",
       "<p>2896 rows × 9 columns</p>\n",
       "</div>"
      ],
      "text/plain": [
       "        imdb_id  ...                                     Generated_Tags\n",
       "0     tt0033045  ...  [romantic, comedy, dramatic, mystery, sentimen...\n",
       "1     tt1937113  ...  [action, suspenseful, dramatic, revenge, viole...\n",
       "2     tt0102007  ...  [horror, paranormal, dark, haunting, mystery, ...\n",
       "3     tt2005374  ...  [suspenseful, dark, murder, psychological, mys...\n",
       "4     tt1411238  ...  [comedy, romantic, adult comedy, feel-good, dr...\n",
       "...         ...  ...                                                ...\n",
       "2891  tt0105585  ...  [mystery, historical fiction, suspenseful, int...\n",
       "2892  tt1869716  ...  [intrigue, suspenseful, psychological, anti wa...\n",
       "2893  tt0219952  ...  [comedy, satire, dark, murder, intrigue, plot ...\n",
       "2894  tt0039464  ...  [mystery, psychological, suspenseful, murder, ...\n",
       "2895  tt0235166  ...  [dark, psychological, depressing, christian fi...\n",
       "\n",
       "[2896 rows x 9 columns]"
      ]
     },
     "execution_count": 40,
     "metadata": {},
     "output_type": "execute_result"
    }
   ],
   "source": [
    "results_pretrained"
   ]
  },
  {
   "cell_type": "markdown",
   "metadata": {
    "application/vnd.databricks.v1+cell": {
     "cellMetadata": {},
     "inputWidgets": {},
     "nuid": "fe9cbe81-8864-47e7-9287-744c96d8c1c7",
     "showTitle": false,
     "tableResultSettingsMap": {},
     "title": ""
    }
   },
   "source": [
    "\n",
    "#### Fine-tuned GPT-4o"
   ]
  },
  {
   "cell_type": "markdown",
   "metadata": {
    "application/vnd.databricks.v1+cell": {
     "cellMetadata": {},
     "inputWidgets": {},
     "nuid": "82e607da-03c7-456e-9ae6-8276163bcf0f",
     "showTitle": false,
     "tableResultSettingsMap": {},
     "title": ""
    }
   },
   "source": [
    "\n",
    "Creating curated JSON train dataset for finetuning (filtering out harmful content):"
   ]
  },
  {
   "cell_type": "code",
   "execution_count": 0,
   "metadata": {
    "application/vnd.databricks.v1+cell": {
     "cellMetadata": {
      "byteLimit": 2048000,
      "rowLimit": 10000
     },
     "inputWidgets": {},
     "nuid": "edc2b94d-e9ca-45fe-9546-9b7bd6243e7a",
     "showTitle": false,
     "tableResultSettingsMap": {},
     "title": ""
    }
   },
   "outputs": [],
   "source": [
    "curation_sample = MPST_df.copy()\n",
    "curation_sample = curation_sample.sample(500)"
   ]
  },
  {
   "cell_type": "code",
   "execution_count": 0,
   "metadata": {
    "application/vnd.databricks.v1+cell": {
     "cellMetadata": {},
     "inputWidgets": {},
     "nuid": "92f2b14b-732a-431e-acb6-856e84ba373f",
     "showTitle": false,
     "tableResultSettingsMap": {},
     "title": ""
    }
   },
   "outputs": [],
   "source": [
    "#### FILTERING OUT HARMFUL CONTENT WITH GPT-4o\n",
    "\n",
    "curation_model = \"gpt-4o\"\n",
    "\n",
    "@retry(wait=wait_random_exponential(min=1, max=60), stop=stop_after_attempt(5))\n",
    "def is_harmful(text):\n",
    "    prompt = f\"\"\"\n",
    "    Identify if the following movie synopsis contains harmful content such as hate speech, discrimination, sexual content, extreme violence, explicit material, or misinformation. \n",
    "    \n",
    "    Text: \"{text}\"\n",
    "    \n",
    "    Respond with only \"yes\" if it is harmful or \"no\" if it is safe.\n",
    "    \"\"\"\n",
    "    \n",
    "    response = openai.chat.completions.create(\n",
    "        model=MODEL,\n",
    "        messages=[\n",
    "            {\"role\": \"system\", \"content\": \"You are a content moderation AI that flags harmful material.\"},\n",
    "            {\"role\": \"user\", \"content\": prompt}\n",
    "        ],\n",
    "        max_tokens=10,\n",
    "        temperature=0.0\n",
    "    )\n",
    "    \n",
    "    if response and response.choices:\n",
    "        return response.choices[0].message.content.strip().lower() == \"yes\"\n",
    "    return False\n",
    "\n",
    "curation_sample[\"is_harmful\"] = curation_sample[\"plot_synopsis\"].apply(lambda x: is_harmful(x) if pd.notnull(x) else False)\n",
    "cleaned_sample = curation_sample[curation_sample[\"is_harmful\"] == False].drop(columns=[\"is_harmful\"])  # Remove flagged rows\n",
    "\n",
    "cleaned_sample.to_csv(\"cleaned_sample.csv\", index=False)\n",
    "\n",
    "print(f\"Original dataset size: {len(curation_sample)}\")\n",
    "print(f\"Cleaned dataset size: {len(cleaned_sample)}\")\n"
   ]
  },
  {
   "cell_type": "markdown",
   "metadata": {
    "application/vnd.databricks.v1+cell": {
     "cellMetadata": {},
     "inputWidgets": {},
     "nuid": "cc21862a-5312-46aa-adbe-c87b211fb45c",
     "showTitle": false,
     "tableResultSettingsMap": {},
     "title": ""
    }
   },
   "source": [
    "\n",
    "##### Convert the finetune sample to the right JSON format:"
   ]
  },
  {
   "cell_type": "code",
   "execution_count": 0,
   "metadata": {
    "application/vnd.databricks.v1+cell": {
     "cellMetadata": {},
     "inputWidgets": {},
     "nuid": "d3a7bcd2-76fa-4062-97c4-734b058a963f",
     "showTitle": false,
     "tableResultSettingsMap": {},
     "title": ""
    }
   },
   "outputs": [],
   "source": [
    "import json\n",
    "\n",
    "def dataframe_to_jsonl(df, output_file):\n",
    "    training_data = []\n",
    "\n",
    "    for _, row in df.iterrows():\n",
    "        #ensuring that all fields are Python-native types\n",
    "        prompt = f\"Title: {row['TITLE']}\\nSynopsis: {row['description']}\\nTags: \"\n",
    "        completion = row['actual_tags']\n",
    "        \n",
    "        #convert completion to a string if it is a NumPy array\n",
    "        if isinstance(completion, (list, tuple, np.ndarray)):\n",
    "            completion = \", \".join(map(str, completion))  # Join array elements into a string\n",
    "\n",
    "        training_data.append({\"prompt\": prompt, \"completion\": completion})\n",
    "\n",
    "    with open(output_file, \"w\") as f:\n",
    "        for entry in training_data:\n",
    "            f.write(json.dumps(entry) + \"\\n\")\n",
    "\n",
    "    print(f\"Training data saved as {output_file}\")\n",
    "\n",
    "\n",
    "dataframe_to_jsonl(final_curated_sample_MPST, \"curated_finetune_MPST_data.jsonl\")"
   ]
  },
  {
   "cell_type": "code",
   "execution_count": 0,
   "metadata": {
    "application/vnd.databricks.v1+cell": {
     "cellMetadata": {},
     "inputWidgets": {},
     "nuid": "529509d5-b49f-4f17-8fab-82444324c3bb",
     "showTitle": false,
     "tableResultSettingsMap": {},
     "title": ""
    }
   },
   "outputs": [],
   "source": [
    "with open('curated_finetune_MPST_data.jsonl', 'r') as infile:\n",
    "    JSON_file = [json.loads(line) for line in infile]"
   ]
  },
  {
   "cell_type": "code",
   "execution_count": 0,
   "metadata": {
    "application/vnd.databricks.v1+cell": {
     "cellMetadata": {},
     "inputWidgets": {},
     "nuid": "e18a955d-489b-4765-b7f0-4d9d57b80f3b",
     "showTitle": false,
     "tableResultSettingsMap": {},
     "title": ""
    }
   },
   "outputs": [],
   "source": [
    "with open('curated_finetune_MPST_data.jsonl', 'w') as outfile:\n",
    "    for entry in JSON_file:\n",
    "        add_entry = {\"messages\": [{\"role\": \"system\", \"content\": \"You are a helpful assistant that generates tags for movies or series.\"}, {\"role\": \"user\", \"content\": entry[\"prompt\"]}, {\"role\": \"assistant\", \"content\": entry[\"completion\"]}]}\n",
    "        json.dump(add_entry, outfile)\n",
    "        outfile.write('\\n')"
   ]
  },
  {
   "cell_type": "code",
   "execution_count": 0,
   "metadata": {
    "application/vnd.databricks.v1+cell": {
     "cellMetadata": {},
     "inputWidgets": {},
     "nuid": "a9b7bf41-8146-43e4-811b-eb8b548ed080",
     "showTitle": false,
     "tableResultSettingsMap": {},
     "title": ""
    }
   },
   "outputs": [],
   "source": [
    "with open('curated_finetune_MPST_data.jsonl', 'r') as infile:\n",
    "  JSON_training_file = [json.loads(line) for line in infile]"
   ]
  },
  {
   "cell_type": "code",
   "execution_count": 0,
   "metadata": {
    "application/vnd.databricks.v1+cell": {
     "cellMetadata": {},
     "inputWidgets": {},
     "nuid": "c61af951-79e9-45e6-9d33-6c0a3ff7e36f",
     "showTitle": false,
     "tableResultSettingsMap": {},
     "title": ""
    }
   },
   "outputs": [],
   "source": [
    "JSON_training_file"
   ]
  },
  {
   "cell_type": "markdown",
   "metadata": {
    "application/vnd.databricks.v1+cell": {
     "cellMetadata": {},
     "inputWidgets": {},
     "nuid": "79da0b8c-cee5-47a9-a13c-9913735d42e2",
     "showTitle": false,
     "tableResultSettingsMap": {},
     "title": ""
    }
   },
   "source": [
    "\n",
    "Now that we have the curated sample data in the right format, the following steps need to be followed in training the model: https://techcommunity.microsoft.com/blog/educatordeveloperblog/fine-tuning-language-models-with-azure-ai-foundry-a-detailed-guide/4369281\n",
    "\n"
   ]
  },
  {
   "cell_type": "markdown",
   "metadata": {
    "application/vnd.databricks.v1+cell": {
     "cellMetadata": {},
     "inputWidgets": {},
     "nuid": "4220570c-9d82-49eb-92f9-54e35a17e70c",
     "showTitle": false,
     "tableResultSettingsMap": {},
     "title": ""
    }
   },
   "source": [
    "\n",
    "After model is trained, call it here:"
   ]
  },
  {
   "cell_type": "code",
   "execution_count": 0,
   "metadata": {
    "application/vnd.databricks.v1+cell": {
     "cellMetadata": {},
     "inputWidgets": {},
     "nuid": "044a2ede-f00a-4742-a1eb-6aaef0c0ebd3",
     "showTitle": false,
     "tableResultSettingsMap": {},
     "title": ""
    }
   },
   "outputs": [],
   "source": [
    "finetuned_model = \"gpt-4o-2024-finetuned\"  #use the right name for the developed this model"
   ]
  },
  {
   "cell_type": "code",
   "execution_count": 0,
   "metadata": {
    "application/vnd.databricks.v1+cell": {
     "cellMetadata": {
      "byteLimit": 2048000,
      "rowLimit": 10000
     },
     "inputWidgets": {},
     "nuid": "0aab2921-0015-4c52-924c-3bd5022b6abb",
     "showTitle": false,
     "tableResultSettingsMap": {},
     "title": ""
    }
   },
   "outputs": [
    {
     "output_type": "execute_result",
     "data": {
      "text/html": [
       "<div>\n",
       "<style scoped>\n",
       "    .dataframe tbody tr th:only-of-type {\n",
       "        vertical-align: middle;\n",
       "    }\n",
       "\n",
       "    .dataframe tbody tr th {\n",
       "        vertical-align: top;\n",
       "    }\n",
       "\n",
       "    .dataframe thead th {\n",
       "        text-align: right;\n",
       "    }\n",
       "</style>\n",
       "<table border=\"1\" class=\"dataframe\">\n",
       "  <thead>\n",
       "    <tr style=\"text-align: right;\">\n",
       "      <th></th>\n",
       "      <th>imdb_id</th>\n",
       "      <th>title</th>\n",
       "      <th>plot_synopsis</th>\n",
       "      <th>tags</th>\n",
       "      <th>split</th>\n",
       "      <th>award_label</th>\n",
       "      <th>num_tags</th>\n",
       "      <th>title_length</th>\n",
       "      <th>plot_length</th>\n",
       "      <th>award_label_length</th>\n",
       "    </tr>\n",
       "  </thead>\n",
       "  <tbody>\n",
       "    <tr>\n",
       "      <th>0</th>\n",
       "      <td>tt0033045</td>\n",
       "      <td>The Shop Around the Corner</td>\n",
       "      <td>Matuschek's, a gift store in Budapest, is the ...</td>\n",
       "      <td>[romantic]</td>\n",
       "      <td>test</td>\n",
       "      <td>No award</td>\n",
       "      <td>1</td>\n",
       "      <td>26</td>\n",
       "      <td>4003</td>\n",
       "      <td>8</td>\n",
       "    </tr>\n",
       "    <tr>\n",
       "      <th>1</th>\n",
       "      <td>tt1937113</td>\n",
       "      <td>Call of Duty: Modern Warfare 3</td>\n",
       "      <td>Hours after the end of the previous game and t...</td>\n",
       "      <td>[good versus evil]</td>\n",
       "      <td>test</td>\n",
       "      <td>No award</td>\n",
       "      <td>1</td>\n",
       "      <td>30</td>\n",
       "      <td>14242</td>\n",
       "      <td>8</td>\n",
       "    </tr>\n",
       "    <tr>\n",
       "      <th>2</th>\n",
       "      <td>tt0102007</td>\n",
       "      <td>The Haunted</td>\n",
       "      <td>This creepy and scary story centers around The...</td>\n",
       "      <td>[paranormal,  horror,  haunting]</td>\n",
       "      <td>test</td>\n",
       "      <td>No award</td>\n",
       "      <td>3</td>\n",
       "      <td>11</td>\n",
       "      <td>934</td>\n",
       "      <td>8</td>\n",
       "    </tr>\n",
       "    <tr>\n",
       "      <th>3</th>\n",
       "      <td>tt2005374</td>\n",
       "      <td>The Frozen Ground</td>\n",
       "      <td>The film opens in an Anchorage motel room in 1...</td>\n",
       "      <td>[dramatic,  murder]</td>\n",
       "      <td>test</td>\n",
       "      <td>No award</td>\n",
       "      <td>2</td>\n",
       "      <td>17</td>\n",
       "      <td>5006</td>\n",
       "      <td>8</td>\n",
       "    </tr>\n",
       "    <tr>\n",
       "      <th>4</th>\n",
       "      <td>tt1411238</td>\n",
       "      <td>No Strings Attached</td>\n",
       "      <td>15 years agoWe see two young kids, named Emma ...</td>\n",
       "      <td>[boring,  adult comedy,  cute,  flashback,  ro...</td>\n",
       "      <td>test</td>\n",
       "      <td>No award</td>\n",
       "      <td>6</td>\n",
       "      <td>19</td>\n",
       "      <td>10773</td>\n",
       "      <td>8</td>\n",
       "    </tr>\n",
       "  </tbody>\n",
       "</table>\n",
       "</div>"
      ],
      "text/plain": [
       "     imdb_id                           title  ... plot_length award_label_length\n",
       "0  tt0033045      The Shop Around the Corner  ...        4003                  8\n",
       "1  tt1937113  Call of Duty: Modern Warfare 3  ...       14242                  8\n",
       "2  tt0102007                     The Haunted  ...         934                  8\n",
       "3  tt2005374               The Frozen Ground  ...        5006                  8\n",
       "4  tt1411238             No Strings Attached  ...       10773                  8\n",
       "\n",
       "[5 rows x 10 columns]"
      ]
     },
     "execution_count": 44,
     "metadata": {},
     "output_type": "execute_result"
    }
   ],
   "source": [
    "test_ids = results_baseline['PROGRAM_ID'].tolist()\n",
    "finetuned_GPT_dataset = MPST_df[MPST_df['imdb_id'].isin(test_ids)]\n",
    "finetuned_GPT_dataset = finetuned_GPT_dataset.reset_index(drop=True)\n",
    "finetuned_GPT_dataset.head()"
   ]
  },
  {
   "cell_type": "code",
   "execution_count": 0,
   "metadata": {
    "application/vnd.databricks.v1+cell": {
     "cellMetadata": {},
     "inputWidgets": {},
     "nuid": "5fa21217-52f0-48b1-aeb8-d4d05fea59b6",
     "showTitle": false,
     "tableResultSettingsMap": {},
     "title": ""
    }
   },
   "outputs": [],
   "source": [
    "subset_finetuned = finetuned_GPT_dataset\n",
    "subset_finetuned['Generated_Tags'] = subset_finetuned.apply(lambda x: generate_tags_gpt(x['title'], x['plot_synopsis'], x['award_label'], fixed_tags, finetuned_model), axis=1)"
   ]
  },
  {
   "cell_type": "code",
   "execution_count": 0,
   "metadata": {
    "application/vnd.databricks.v1+cell": {
     "cellMetadata": {
      "byteLimit": 2048000,
      "rowLimit": 10000
     },
     "inputWidgets": {},
     "nuid": "66c7c7f7-780e-494c-8a32-6fca79716b3a",
     "showTitle": false,
     "tableResultSettingsMap": {},
     "title": ""
    }
   },
   "outputs": [],
   "source": [
    "# ## Save output table to unity catalog\n",
    "# pyspark_subset_finetuned = spark.createDataFrame(subset_finetuned)\n",
    "# results_finetuned = \"dev_data_science.mpst_dataset.results_finetuned\"\n",
    "\n",
    "# # Save the DataFrame as a Delta table in Unity Catalog\n",
    "# pyspark_subset_finetuned.write \\\n",
    "#     .format(\"delta\") \\\n",
    "#     .mode(\"overwrite\") \\\n",
    "#     .saveAsTable(results_finetuned)\n",
    "\n",
    "# ## Import or read the table again later\n",
    "results_finetuned = spark.read.table(\"dev_data_science.mpst_dataset.results_finetuned\")\n",
    "results_finetuned = results_finetuned.toPandas()"
   ]
  },
  {
   "cell_type": "code",
   "execution_count": 0,
   "metadata": {
    "application/vnd.databricks.v1+cell": {
     "cellMetadata": {
      "byteLimit": 2048000,
      "rowLimit": 10000
     },
     "inputWidgets": {},
     "nuid": "ae3e4553-c007-4733-837d-9666def4fc91",
     "showTitle": false,
     "tableResultSettingsMap": {},
     "title": ""
    }
   },
   "outputs": [
    {
     "output_type": "execute_result",
     "data": {
      "text/html": [
       "<div>\n",
       "<style scoped>\n",
       "    .dataframe tbody tr th:only-of-type {\n",
       "        vertical-align: middle;\n",
       "    }\n",
       "\n",
       "    .dataframe tbody tr th {\n",
       "        vertical-align: top;\n",
       "    }\n",
       "\n",
       "    .dataframe thead th {\n",
       "        text-align: right;\n",
       "    }\n",
       "</style>\n",
       "<table border=\"1\" class=\"dataframe\">\n",
       "  <thead>\n",
       "    <tr style=\"text-align: right;\">\n",
       "      <th></th>\n",
       "      <th>imdb_id</th>\n",
       "      <th>title</th>\n",
       "      <th>plot_synopsis</th>\n",
       "      <th>tags</th>\n",
       "      <th>split</th>\n",
       "      <th>synopsis_source</th>\n",
       "      <th>award_label</th>\n",
       "      <th>tag_count</th>\n",
       "      <th>Generated_Tags</th>\n",
       "    </tr>\n",
       "  </thead>\n",
       "  <tbody>\n",
       "    <tr>\n",
       "      <th>0</th>\n",
       "      <td>tt0033045</td>\n",
       "      <td>The Shop Around the Corner</td>\n",
       "      <td>Matuschek's, a gift store in Budapest, is the ...</td>\n",
       "      <td>[romantic]</td>\n",
       "      <td>test</td>\n",
       "      <td>imdb</td>\n",
       "      <td>No award</td>\n",
       "      <td>1</td>\n",
       "      <td>[romantic]</td>\n",
       "    </tr>\n",
       "    <tr>\n",
       "      <th>1</th>\n",
       "      <td>tt1937113</td>\n",
       "      <td>Call of Duty: Modern Warfare 3</td>\n",
       "      <td>Hours after the end of the previous game and t...</td>\n",
       "      <td>[good versus evil]</td>\n",
       "      <td>test</td>\n",
       "      <td>imdb</td>\n",
       "      <td>No award</td>\n",
       "      <td>1</td>\n",
       "      <td>[action, violence, revenge, suspenseful, dark]</td>\n",
       "    </tr>\n",
       "    <tr>\n",
       "      <th>2</th>\n",
       "      <td>tt0102007</td>\n",
       "      <td>The Haunted</td>\n",
       "      <td>This creepy and scary story centers around The...</td>\n",
       "      <td>[paranormal, horror, haunting]</td>\n",
       "      <td>test</td>\n",
       "      <td>imdb</td>\n",
       "      <td>No award</td>\n",
       "      <td>3</td>\n",
       "      <td>[horror]</td>\n",
       "    </tr>\n",
       "    <tr>\n",
       "      <th>3</th>\n",
       "      <td>tt2005374</td>\n",
       "      <td>The Frozen Ground</td>\n",
       "      <td>The film opens in an Anchorage motel room in 1...</td>\n",
       "      <td>[dramatic, murder]</td>\n",
       "      <td>test</td>\n",
       "      <td>wikipedia</td>\n",
       "      <td>No award</td>\n",
       "      <td>2</td>\n",
       "      <td>[murder, suspenseful, psychological, dark, vio...</td>\n",
       "    </tr>\n",
       "    <tr>\n",
       "      <th>4</th>\n",
       "      <td>tt1411238</td>\n",
       "      <td>No Strings Attached</td>\n",
       "      <td>15 years agoWe see two young kids, named Emma ...</td>\n",
       "      <td>[boring, adult comedy, cute, flashback, romant...</td>\n",
       "      <td>test</td>\n",
       "      <td>imdb</td>\n",
       "      <td>No award</td>\n",
       "      <td>6</td>\n",
       "      <td>[comedy]</td>\n",
       "    </tr>\n",
       "    <tr>\n",
       "      <th>...</th>\n",
       "      <td>...</td>\n",
       "      <td>...</td>\n",
       "      <td>...</td>\n",
       "      <td>...</td>\n",
       "      <td>...</td>\n",
       "      <td>...</td>\n",
       "      <td>...</td>\n",
       "      <td>...</td>\n",
       "      <td>...</td>\n",
       "    </tr>\n",
       "    <tr>\n",
       "      <th>2891</th>\n",
       "      <td>tt0105585</td>\n",
       "      <td>Thunderheart</td>\n",
       "      <td>During the early 1970s, FBI agent Ray Levoi is...</td>\n",
       "      <td>[suspenseful, murder, flashback]</td>\n",
       "      <td>test</td>\n",
       "      <td>wikipedia</td>\n",
       "      <td>No award</td>\n",
       "      <td>3</td>\n",
       "      <td>[mystery, suspenseful, murder, historical fict...</td>\n",
       "    </tr>\n",
       "    <tr>\n",
       "      <th>2892</th>\n",
       "      <td>tt1869716</td>\n",
       "      <td>The East</td>\n",
       "      <td>Jane, an operative for the private intelligenc...</td>\n",
       "      <td>[suspenseful, neo noir, violence, tragedy, rev...</td>\n",
       "      <td>test</td>\n",
       "      <td>wikipedia</td>\n",
       "      <td>No award</td>\n",
       "      <td>6</td>\n",
       "      <td>[revenge, suspenseful, psychological, thought-...</td>\n",
       "    </tr>\n",
       "    <tr>\n",
       "      <th>2893</th>\n",
       "      <td>tt0219952</td>\n",
       "      <td>Lucky Numbers</td>\n",
       "      <td>In 1988 Russ Richards (John Travolta), the wea...</td>\n",
       "      <td>[comedy, murder]</td>\n",
       "      <td>test</td>\n",
       "      <td>wikipedia</td>\n",
       "      <td>No award</td>\n",
       "      <td>2</td>\n",
       "      <td>[comedy, satire, dark, murder, mystery, violence]</td>\n",
       "    </tr>\n",
       "    <tr>\n",
       "      <th>2894</th>\n",
       "      <td>tt0039464</td>\n",
       "      <td>High Wall</td>\n",
       "      <td>Steven Kenet catches his unfaithful wife in th...</td>\n",
       "      <td>[murder]</td>\n",
       "      <td>test</td>\n",
       "      <td>wikipedia</td>\n",
       "      <td>No award</td>\n",
       "      <td>1</td>\n",
       "      <td>[psychological, suspenseful, murder, mystery, ...</td>\n",
       "    </tr>\n",
       "    <tr>\n",
       "      <th>2895</th>\n",
       "      <td>tt0235166</td>\n",
       "      <td>Against All Hope</td>\n",
       "      <td>Sometime in the 1950s in Chicago a man, Cecil ...</td>\n",
       "      <td>[christian film]</td>\n",
       "      <td>test</td>\n",
       "      <td>wikipedia</td>\n",
       "      <td>No award</td>\n",
       "      <td>1</td>\n",
       "      <td>[depressing, dramatic, psychological, sadist, ...</td>\n",
       "    </tr>\n",
       "  </tbody>\n",
       "</table>\n",
       "<p>2896 rows × 9 columns</p>\n",
       "</div>"
      ],
      "text/plain": [
       "        imdb_id  ...                                     Generated_Tags\n",
       "0     tt0033045  ...                                         [romantic]\n",
       "1     tt1937113  ...     [action, violence, revenge, suspenseful, dark]\n",
       "2     tt0102007  ...                                           [horror]\n",
       "3     tt2005374  ...  [murder, suspenseful, psychological, dark, vio...\n",
       "4     tt1411238  ...                                           [comedy]\n",
       "...         ...  ...                                                ...\n",
       "2891  tt0105585  ...  [mystery, suspenseful, murder, historical fict...\n",
       "2892  tt1869716  ...  [revenge, suspenseful, psychological, thought-...\n",
       "2893  tt0219952  ...  [comedy, satire, dark, murder, mystery, violence]\n",
       "2894  tt0039464  ...  [psychological, suspenseful, murder, mystery, ...\n",
       "2895  tt0235166  ...  [depressing, dramatic, psychological, sadist, ...\n",
       "\n",
       "[2896 rows x 9 columns]"
      ]
     },
     "execution_count": 46,
     "metadata": {},
     "output_type": "execute_result"
    }
   ],
   "source": [
    "results_finetuned"
   ]
  }
 ],
 "metadata": {
  "application/vnd.databricks.v1+notebook": {
   "computePreferences": null,
   "dashboards": [],
   "environmentMetadata": {
    "base_environment": "",
    "client": "2"
   },
   "language": "python",
   "notebookMetadata": {
    "pythonIndentUnit": 4
   },
   "notebookName": "FINAL_MODEL_DEVELOPMENT",
   "widgets": {}
  },
  "language_info": {
   "name": "python"
  }
 },
 "nbformat": 4,
 "nbformat_minor": 0
}