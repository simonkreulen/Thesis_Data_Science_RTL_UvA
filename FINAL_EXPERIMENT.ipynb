{
 "cells": [
  {
   "cell_type": "markdown",
   "metadata": {
    "application/vnd.databricks.v1+cell": {
     "cellMetadata": {
      "byteLimit": 2048000,
      "rowLimit": 10000
     },
     "inputWidgets": {},
     "nuid": "c50da963-3659-437c-8500-88deca16e04a",
     "showTitle": false,
     "tableResultSettingsMap": {},
     "title": ""
    }
   },
   "source": [
    "\n",
    "### In this notebook, the excel file is made from merging all results for the test set into one dataframe and exporting it"
   ]
  },
  {
   "cell_type": "code",
   "execution_count": 0,
   "metadata": {
    "application/vnd.databricks.v1+cell": {
     "cellMetadata": {
      "byteLimit": 2048000,
      "rowLimit": 10000
     },
     "inputWidgets": {},
     "nuid": "99174ecf-cc55-44c2-bebf-b0befa6d0a96",
     "showTitle": false,
     "tableResultSettingsMap": {},
     "title": ""
    }
   },
   "outputs": [],
   "source": [
    "import pandas as pd\n",
    "import numpy as np"
   ]
  },
  {
   "cell_type": "code",
   "execution_count": 0,
   "metadata": {
    "application/vnd.databricks.v1+cell": {
     "cellMetadata": {
      "byteLimit": 2048000,
      "rowLimit": 10000
     },
     "inputWidgets": {},
     "nuid": "5302d37f-896d-4eff-adb4-58849212113b",
     "showTitle": false,
     "tableResultSettingsMap": {},
     "title": ""
    }
   },
   "outputs": [
    {
     "output_type": "execute_result",
     "data": {
      "text/html": [
       "<div>\n",
       "<style scoped>\n",
       "    .dataframe tbody tr th:only-of-type {\n",
       "        vertical-align: middle;\n",
       "    }\n",
       "\n",
       "    .dataframe tbody tr th {\n",
       "        vertical-align: top;\n",
       "    }\n",
       "\n",
       "    .dataframe thead th {\n",
       "        text-align: right;\n",
       "    }\n",
       "</style>\n",
       "<table border=\"1\" class=\"dataframe\">\n",
       "  <thead>\n",
       "    <tr style=\"text-align: right;\">\n",
       "      <th></th>\n",
       "      <th>PROGRAM_ID</th>\n",
       "      <th>TITLE</th>\n",
       "      <th>Generated_Tags</th>\n",
       "      <th>Actual_Tags</th>\n",
       "      <th>Matching_Tags_Count</th>\n",
       "    </tr>\n",
       "  </thead>\n",
       "  <tbody>\n",
       "    <tr>\n",
       "      <th>0</th>\n",
       "      <td>tt0033045</td>\n",
       "      <td>The Shop Around the Corner</td>\n",
       "      <td>[comedy, romantic, entertaining, flashback]</td>\n",
       "      <td>[romantic]</td>\n",
       "      <td>1</td>\n",
       "    </tr>\n",
       "    <tr>\n",
       "      <th>1</th>\n",
       "      <td>tt1937113</td>\n",
       "      <td>Call of Duty: Modern Warfare 3</td>\n",
       "      <td>[violence, flashback, murder, action, suspense...</td>\n",
       "      <td>[good versus evil]</td>\n",
       "      <td>0</td>\n",
       "    </tr>\n",
       "    <tr>\n",
       "      <th>2</th>\n",
       "      <td>tt0102007</td>\n",
       "      <td>The Haunted</td>\n",
       "      <td>[paranormal, horror]</td>\n",
       "      <td>[haunting, horror, paranormal]</td>\n",
       "      <td>2</td>\n",
       "    </tr>\n",
       "    <tr>\n",
       "      <th>3</th>\n",
       "      <td>tt2005374</td>\n",
       "      <td>The Frozen Ground</td>\n",
       "      <td>[murder, violence]</td>\n",
       "      <td>[dramatic, murder]</td>\n",
       "      <td>1</td>\n",
       "    </tr>\n",
       "    <tr>\n",
       "      <th>4</th>\n",
       "      <td>tt1411238</td>\n",
       "      <td>No Strings Attached</td>\n",
       "      <td>[romantic, pornographic]</td>\n",
       "      <td>[adult comedy, boring, cute, entertaining, fla...</td>\n",
       "      <td>1</td>\n",
       "    </tr>\n",
       "  </tbody>\n",
       "</table>\n",
       "</div>"
      ],
      "text/plain": [
       "  PROGRAM_ID  ... Matching_Tags_Count\n",
       "0  tt0033045  ...                   1\n",
       "1  tt1937113  ...                   0\n",
       "2  tt0102007  ...                   2\n",
       "3  tt2005374  ...                   1\n",
       "4  tt1411238  ...                   1\n",
       "\n",
       "[5 rows x 5 columns]"
      ]
     },
     "execution_count": 29,
     "metadata": {},
     "output_type": "execute_result"
    }
   ],
   "source": [
    "results_baseline = spark.read.table(\"dev_data_science.mpst_dataset.results_baseline\")\n",
    "results_baseline = results_baseline.toPandas()\n",
    "results_baseline.head()"
   ]
  },
  {
   "cell_type": "code",
   "execution_count": 0,
   "metadata": {
    "application/vnd.databricks.v1+cell": {
     "cellMetadata": {
      "byteLimit": 2048000,
      "rowLimit": 10000
     },
     "inputWidgets": {},
     "nuid": "ff96a004-86e8-4f69-b89c-45a9bb06cff0",
     "showTitle": false,
     "tableResultSettingsMap": {},
     "title": ""
    }
   },
   "outputs": [
    {
     "output_type": "execute_result",
     "data": {
      "text/html": [
       "<div>\n",
       "<style scoped>\n",
       "    .dataframe tbody tr th:only-of-type {\n",
       "        vertical-align: middle;\n",
       "    }\n",
       "\n",
       "    .dataframe tbody tr th {\n",
       "        vertical-align: top;\n",
       "    }\n",
       "\n",
       "    .dataframe thead th {\n",
       "        text-align: right;\n",
       "    }\n",
       "</style>\n",
       "<table border=\"1\" class=\"dataframe\">\n",
       "  <thead>\n",
       "    <tr style=\"text-align: right;\">\n",
       "      <th></th>\n",
       "      <th>imdb_id</th>\n",
       "      <th>title</th>\n",
       "      <th>plot_synopsis</th>\n",
       "      <th>tags</th>\n",
       "      <th>split</th>\n",
       "      <th>synopsis_source</th>\n",
       "      <th>award_label</th>\n",
       "      <th>tag_count</th>\n",
       "      <th>Generated_Tags</th>\n",
       "    </tr>\n",
       "  </thead>\n",
       "  <tbody>\n",
       "    <tr>\n",
       "      <th>0</th>\n",
       "      <td>tt0033045</td>\n",
       "      <td>The Shop Around the Corner</td>\n",
       "      <td>Matuschek's, a gift store in Budapest, is the ...</td>\n",
       "      <td>[romantic]</td>\n",
       "      <td>test</td>\n",
       "      <td>imdb</td>\n",
       "      <td>No award</td>\n",
       "      <td>1</td>\n",
       "      <td>[romantic, comedy, dramatic, mystery, sentimen...</td>\n",
       "    </tr>\n",
       "    <tr>\n",
       "      <th>1</th>\n",
       "      <td>tt1937113</td>\n",
       "      <td>Call of Duty: Modern Warfare 3</td>\n",
       "      <td>Hours after the end of the previous game and t...</td>\n",
       "      <td>[good versus evil]</td>\n",
       "      <td>test</td>\n",
       "      <td>imdb</td>\n",
       "      <td>No award</td>\n",
       "      <td>1</td>\n",
       "      <td>[action, suspenseful, dramatic, revenge, viole...</td>\n",
       "    </tr>\n",
       "    <tr>\n",
       "      <th>2</th>\n",
       "      <td>tt0102007</td>\n",
       "      <td>The Haunted</td>\n",
       "      <td>This creepy and scary story centers around The...</td>\n",
       "      <td>[paranormal, horror, haunting]</td>\n",
       "      <td>test</td>\n",
       "      <td>imdb</td>\n",
       "      <td>No award</td>\n",
       "      <td>3</td>\n",
       "      <td>[horror, paranormal, dark, haunting, mystery, ...</td>\n",
       "    </tr>\n",
       "    <tr>\n",
       "      <th>3</th>\n",
       "      <td>tt2005374</td>\n",
       "      <td>The Frozen Ground</td>\n",
       "      <td>The film opens in an Anchorage motel room in 1...</td>\n",
       "      <td>[dramatic, murder]</td>\n",
       "      <td>test</td>\n",
       "      <td>wikipedia</td>\n",
       "      <td>No award</td>\n",
       "      <td>2</td>\n",
       "      <td>[suspenseful, dark, murder, psychological, mys...</td>\n",
       "    </tr>\n",
       "    <tr>\n",
       "      <th>4</th>\n",
       "      <td>tt1411238</td>\n",
       "      <td>No Strings Attached</td>\n",
       "      <td>15 years agoWe see two young kids, named Emma ...</td>\n",
       "      <td>[boring, adult comedy, cute, flashback, romant...</td>\n",
       "      <td>test</td>\n",
       "      <td>imdb</td>\n",
       "      <td>No award</td>\n",
       "      <td>6</td>\n",
       "      <td>[comedy, romantic, adult comedy, feel-good, dr...</td>\n",
       "    </tr>\n",
       "  </tbody>\n",
       "</table>\n",
       "</div>"
      ],
      "text/plain": [
       "     imdb_id  ...                                     Generated_Tags\n",
       "0  tt0033045  ...  [romantic, comedy, dramatic, mystery, sentimen...\n",
       "1  tt1937113  ...  [action, suspenseful, dramatic, revenge, viole...\n",
       "2  tt0102007  ...  [horror, paranormal, dark, haunting, mystery, ...\n",
       "3  tt2005374  ...  [suspenseful, dark, murder, psychological, mys...\n",
       "4  tt1411238  ...  [comedy, romantic, adult comedy, feel-good, dr...\n",
       "\n",
       "[5 rows x 9 columns]"
      ]
     },
     "execution_count": 30,
     "metadata": {},
     "output_type": "execute_result"
    }
   ],
   "source": [
    "results_pretrained = spark.read.table(\"dev_data_science.mpst_dataset.results_pretrained2\")\n",
    "results_pretrained = results_pretrained.toPandas()\n",
    "results_pretrained.head()"
   ]
  },
  {
   "cell_type": "code",
   "execution_count": 0,
   "metadata": {
    "application/vnd.databricks.v1+cell": {
     "cellMetadata": {
      "byteLimit": 2048000,
      "rowLimit": 10000
     },
     "inputWidgets": {},
     "nuid": "00278705-6272-45a2-9e84-ff68b7ea3037",
     "showTitle": false,
     "tableResultSettingsMap": {},
     "title": ""
    }
   },
   "outputs": [
    {
     "output_type": "execute_result",
     "data": {
      "text/html": [
       "<div>\n",
       "<style scoped>\n",
       "    .dataframe tbody tr th:only-of-type {\n",
       "        vertical-align: middle;\n",
       "    }\n",
       "\n",
       "    .dataframe tbody tr th {\n",
       "        vertical-align: top;\n",
       "    }\n",
       "\n",
       "    .dataframe thead th {\n",
       "        text-align: right;\n",
       "    }\n",
       "</style>\n",
       "<table border=\"1\" class=\"dataframe\">\n",
       "  <thead>\n",
       "    <tr style=\"text-align: right;\">\n",
       "      <th></th>\n",
       "      <th>imdb_id</th>\n",
       "      <th>title</th>\n",
       "      <th>plot_synopsis</th>\n",
       "      <th>tags</th>\n",
       "      <th>split</th>\n",
       "      <th>synopsis_source</th>\n",
       "      <th>award_label</th>\n",
       "      <th>tag_count</th>\n",
       "      <th>Generated_Tags</th>\n",
       "    </tr>\n",
       "  </thead>\n",
       "  <tbody>\n",
       "    <tr>\n",
       "      <th>0</th>\n",
       "      <td>tt0033045</td>\n",
       "      <td>The Shop Around the Corner</td>\n",
       "      <td>Matuschek's, a gift store in Budapest, is the ...</td>\n",
       "      <td>[romantic]</td>\n",
       "      <td>test</td>\n",
       "      <td>imdb</td>\n",
       "      <td>No award</td>\n",
       "      <td>1</td>\n",
       "      <td>[romantic]</td>\n",
       "    </tr>\n",
       "    <tr>\n",
       "      <th>1</th>\n",
       "      <td>tt1937113</td>\n",
       "      <td>Call of Duty: Modern Warfare 3</td>\n",
       "      <td>Hours after the end of the previous game and t...</td>\n",
       "      <td>[good versus evil]</td>\n",
       "      <td>test</td>\n",
       "      <td>imdb</td>\n",
       "      <td>No award</td>\n",
       "      <td>1</td>\n",
       "      <td>[action, violence, revenge, suspenseful, dark]</td>\n",
       "    </tr>\n",
       "    <tr>\n",
       "      <th>2</th>\n",
       "      <td>tt0102007</td>\n",
       "      <td>The Haunted</td>\n",
       "      <td>This creepy and scary story centers around The...</td>\n",
       "      <td>[paranormal, horror, haunting]</td>\n",
       "      <td>test</td>\n",
       "      <td>imdb</td>\n",
       "      <td>No award</td>\n",
       "      <td>3</td>\n",
       "      <td>[horror]</td>\n",
       "    </tr>\n",
       "    <tr>\n",
       "      <th>3</th>\n",
       "      <td>tt2005374</td>\n",
       "      <td>The Frozen Ground</td>\n",
       "      <td>The film opens in an Anchorage motel room in 1...</td>\n",
       "      <td>[dramatic, murder]</td>\n",
       "      <td>test</td>\n",
       "      <td>wikipedia</td>\n",
       "      <td>No award</td>\n",
       "      <td>2</td>\n",
       "      <td>[murder, suspenseful, psychological, dark, vio...</td>\n",
       "    </tr>\n",
       "    <tr>\n",
       "      <th>4</th>\n",
       "      <td>tt1411238</td>\n",
       "      <td>No Strings Attached</td>\n",
       "      <td>15 years agoWe see two young kids, named Emma ...</td>\n",
       "      <td>[boring, adult comedy, cute, flashback, romant...</td>\n",
       "      <td>test</td>\n",
       "      <td>imdb</td>\n",
       "      <td>No award</td>\n",
       "      <td>6</td>\n",
       "      <td>[comedy]</td>\n",
       "    </tr>\n",
       "  </tbody>\n",
       "</table>\n",
       "</div>"
      ],
      "text/plain": [
       "     imdb_id  ...                                     Generated_Tags\n",
       "0  tt0033045  ...                                         [romantic]\n",
       "1  tt1937113  ...     [action, violence, revenge, suspenseful, dark]\n",
       "2  tt0102007  ...                                           [horror]\n",
       "3  tt2005374  ...  [murder, suspenseful, psychological, dark, vio...\n",
       "4  tt1411238  ...                                           [comedy]\n",
       "\n",
       "[5 rows x 9 columns]"
      ]
     },
     "execution_count": 31,
     "metadata": {},
     "output_type": "execute_result"
    }
   ],
   "source": [
    "results_finetuned = spark.read.table(\"dev_data_science.mpst_dataset.results_finetuned\")\n",
    "results_finetuned = results_finetuned.toPandas()\n",
    "results_finetuned.head()"
   ]
  },
  {
   "cell_type": "markdown",
   "metadata": {
    "application/vnd.databricks.v1+cell": {
     "cellMetadata": {
      "byteLimit": 2048000,
      "rowLimit": 10000
     },
     "inputWidgets": {},
     "nuid": "d7c6868f-fccc-4395-83fa-dbfb94ff6167",
     "showTitle": false,
     "tableResultSettingsMap": {},
     "title": ""
    }
   },
   "source": [
    "\n",
    "Aligning some column names, and removing unnecessary ones:"
   ]
  },
  {
   "cell_type": "code",
   "execution_count": 0,
   "metadata": {
    "application/vnd.databricks.v1+cell": {
     "cellMetadata": {
      "byteLimit": 2048000,
      "rowLimit": 10000
     },
     "inputWidgets": {},
     "nuid": "fa13480a-8a6f-46a0-a5ce-ce88daa42ff5",
     "showTitle": false,
     "tableResultSettingsMap": {},
     "title": ""
    }
   },
   "outputs": [],
   "source": [
    "results_baseline = results_baseline[['PROGRAM_ID','TITLE','Actual_Tags','Generated_Tags']]\n",
    "results_baseline = results_baseline.rename(columns={\"Actual_Tags\": \"tags\"})\n",
    "results_baseline = results_baseline.rename(columns={\"PROGRAM_ID\": \"imdb_id\"})\n",
    "results_baseline = results_baseline.rename(columns={\"TITLE\": \"title\"})"
   ]
  },
  {
   "cell_type": "code",
   "execution_count": 0,
   "metadata": {
    "application/vnd.databricks.v1+cell": {
     "cellMetadata": {
      "byteLimit": 2048000,
      "rowLimit": 10000
     },
     "inputWidgets": {},
     "nuid": "a3c7c83c-eb90-41c8-a9e1-766c03a82ed8",
     "showTitle": false,
     "tableResultSettingsMap": {},
     "title": ""
    }
   },
   "outputs": [
    {
     "output_type": "execute_result",
     "data": {
      "text/html": [
       "<div>\n",
       "<style scoped>\n",
       "    .dataframe tbody tr th:only-of-type {\n",
       "        vertical-align: middle;\n",
       "    }\n",
       "\n",
       "    .dataframe tbody tr th {\n",
       "        vertical-align: top;\n",
       "    }\n",
       "\n",
       "    .dataframe thead th {\n",
       "        text-align: right;\n",
       "    }\n",
       "</style>\n",
       "<table border=\"1\" class=\"dataframe\">\n",
       "  <thead>\n",
       "    <tr style=\"text-align: right;\">\n",
       "      <th></th>\n",
       "      <th>imdb_id</th>\n",
       "      <th>title</th>\n",
       "      <th>tags</th>\n",
       "      <th>Generated_Tags</th>\n",
       "    </tr>\n",
       "  </thead>\n",
       "  <tbody>\n",
       "    <tr>\n",
       "      <th>0</th>\n",
       "      <td>tt0033045</td>\n",
       "      <td>The Shop Around the Corner</td>\n",
       "      <td>[romantic]</td>\n",
       "      <td>[comedy, romantic, entertaining, flashback]</td>\n",
       "    </tr>\n",
       "    <tr>\n",
       "      <th>1</th>\n",
       "      <td>tt1937113</td>\n",
       "      <td>Call of Duty: Modern Warfare 3</td>\n",
       "      <td>[good versus evil]</td>\n",
       "      <td>[violence, flashback, murder, action, suspense...</td>\n",
       "    </tr>\n",
       "    <tr>\n",
       "      <th>2</th>\n",
       "      <td>tt0102007</td>\n",
       "      <td>The Haunted</td>\n",
       "      <td>[haunting, horror, paranormal]</td>\n",
       "      <td>[paranormal, horror]</td>\n",
       "    </tr>\n",
       "    <tr>\n",
       "      <th>3</th>\n",
       "      <td>tt2005374</td>\n",
       "      <td>The Frozen Ground</td>\n",
       "      <td>[dramatic, murder]</td>\n",
       "      <td>[murder, violence]</td>\n",
       "    </tr>\n",
       "    <tr>\n",
       "      <th>4</th>\n",
       "      <td>tt1411238</td>\n",
       "      <td>No Strings Attached</td>\n",
       "      <td>[adult comedy, boring, cute, entertaining, fla...</td>\n",
       "      <td>[romantic, pornographic]</td>\n",
       "    </tr>\n",
       "    <tr>\n",
       "      <th>...</th>\n",
       "      <td>...</td>\n",
       "      <td>...</td>\n",
       "      <td>...</td>\n",
       "      <td>...</td>\n",
       "    </tr>\n",
       "    <tr>\n",
       "      <th>2891</th>\n",
       "      <td>tt0105585</td>\n",
       "      <td>Thunderheart</td>\n",
       "      <td>[flashback, murder, suspenseful]</td>\n",
       "      <td>[murder]</td>\n",
       "    </tr>\n",
       "    <tr>\n",
       "      <th>2892</th>\n",
       "      <td>tt1869716</td>\n",
       "      <td>The East</td>\n",
       "      <td>[neo noir, revenge, sentimental, suspenseful, ...</td>\n",
       "      <td>[murder, flashback, comedy, suspenseful, psych...</td>\n",
       "    </tr>\n",
       "    <tr>\n",
       "      <th>2893</th>\n",
       "      <td>tt0219952</td>\n",
       "      <td>Lucky Numbers</td>\n",
       "      <td>[comedy, murder]</td>\n",
       "      <td>[comedy, cult]</td>\n",
       "    </tr>\n",
       "    <tr>\n",
       "      <th>2894</th>\n",
       "      <td>tt0039464</td>\n",
       "      <td>High Wall</td>\n",
       "      <td>[murder]</td>\n",
       "      <td>[murder, flashback]</td>\n",
       "    </tr>\n",
       "    <tr>\n",
       "      <th>2895</th>\n",
       "      <td>tt0235166</td>\n",
       "      <td>Against All Hope</td>\n",
       "      <td>[christian film]</td>\n",
       "      <td>[romantic, flashback, sentimental, dramatic, v...</td>\n",
       "    </tr>\n",
       "  </tbody>\n",
       "</table>\n",
       "<p>2896 rows × 4 columns</p>\n",
       "</div>"
      ],
      "text/plain": [
       "        imdb_id  ...                                     Generated_Tags\n",
       "0     tt0033045  ...        [comedy, romantic, entertaining, flashback]\n",
       "1     tt1937113  ...  [violence, flashback, murder, action, suspense...\n",
       "2     tt0102007  ...                               [paranormal, horror]\n",
       "3     tt2005374  ...                                 [murder, violence]\n",
       "4     tt1411238  ...                           [romantic, pornographic]\n",
       "...         ...  ...                                                ...\n",
       "2891  tt0105585  ...                                           [murder]\n",
       "2892  tt1869716  ...  [murder, flashback, comedy, suspenseful, psych...\n",
       "2893  tt0219952  ...                                     [comedy, cult]\n",
       "2894  tt0039464  ...                                [murder, flashback]\n",
       "2895  tt0235166  ...  [romantic, flashback, sentimental, dramatic, v...\n",
       "\n",
       "[2896 rows x 4 columns]"
      ]
     },
     "execution_count": 33,
     "metadata": {},
     "output_type": "execute_result"
    }
   ],
   "source": [
    "results_baseline"
   ]
  },
  {
   "cell_type": "code",
   "execution_count": 0,
   "metadata": {
    "application/vnd.databricks.v1+cell": {
     "cellMetadata": {
      "byteLimit": 2048000,
      "rowLimit": 10000
     },
     "inputWidgets": {},
     "nuid": "f577822c-5870-400d-b8d0-0e33fa52e05d",
     "showTitle": false,
     "tableResultSettingsMap": {},
     "title": ""
    }
   },
   "outputs": [],
   "source": [
    "import random"
   ]
  },
  {
   "cell_type": "code",
   "execution_count": 0,
   "metadata": {
    "application/vnd.databricks.v1+cell": {
     "cellMetadata": {
      "byteLimit": 2048000,
      "rowLimit": 10000
     },
     "inputWidgets": {},
     "nuid": "106450ea-6603-4f0d-86c1-6de1e965cd7c",
     "showTitle": false,
     "tableResultSettingsMap": {},
     "title": ""
    }
   },
   "outputs": [
    {
     "output_type": "execute_result",
     "data": {
      "text/html": [
       "<div>\n",
       "<style scoped>\n",
       "    .dataframe tbody tr th:only-of-type {\n",
       "        vertical-align: middle;\n",
       "    }\n",
       "\n",
       "    .dataframe tbody tr th {\n",
       "        vertical-align: top;\n",
       "    }\n",
       "\n",
       "    .dataframe thead th {\n",
       "        text-align: right;\n",
       "    }\n",
       "</style>\n",
       "<table border=\"1\" class=\"dataframe\">\n",
       "  <thead>\n",
       "    <tr style=\"text-align: right;\">\n",
       "      <th></th>\n",
       "      <th>imdb_id</th>\n",
       "      <th>title</th>\n",
       "      <th>plot_synopsis</th>\n",
       "      <th>set_1</th>\n",
       "      <th>set_2</th>\n",
       "      <th>set_3</th>\n",
       "      <th>set_4</th>\n",
       "      <th>source_map</th>\n",
       "    </tr>\n",
       "  </thead>\n",
       "  <tbody>\n",
       "    <tr>\n",
       "      <th>0</th>\n",
       "      <td>tt0033045</td>\n",
       "      <td>The Shop Around the Corner</td>\n",
       "      <td>Matuschek's, a gift store in Budapest, is the ...</td>\n",
       "      <td>[comedy, romantic, entertaining, flashback]</td>\n",
       "      <td>[romantic]</td>\n",
       "      <td>[romantic]</td>\n",
       "      <td>[romantic, comedy, dramatic, mystery, sentimen...</td>\n",
       "      <td>{'set_1': 'Baseline_Tags', 'set_2': 'Ground_Tr...</td>\n",
       "    </tr>\n",
       "    <tr>\n",
       "      <th>1</th>\n",
       "      <td>tt1937113</td>\n",
       "      <td>Call of Duty: Modern Warfare 3</td>\n",
       "      <td>Hours after the end of the previous game and t...</td>\n",
       "      <td>[action, violence, revenge, suspenseful, dark]</td>\n",
       "      <td>[good versus evil]</td>\n",
       "      <td>[action, suspenseful, dramatic, revenge, viole...</td>\n",
       "      <td>[violence, flashback, murder, action, suspense...</td>\n",
       "      <td>{'set_1': 'Finetuned_Tags', 'set_2': 'Ground_T...</td>\n",
       "    </tr>\n",
       "    <tr>\n",
       "      <th>2</th>\n",
       "      <td>tt0102007</td>\n",
       "      <td>The Haunted</td>\n",
       "      <td>This creepy and scary story centers around The...</td>\n",
       "      <td>[haunting, horror, paranormal]</td>\n",
       "      <td>[horror, paranormal, dark, haunting, mystery, ...</td>\n",
       "      <td>[horror]</td>\n",
       "      <td>[paranormal, horror]</td>\n",
       "      <td>{'set_1': 'Ground_Truth_Tags', 'set_2': 'ZeroS...</td>\n",
       "    </tr>\n",
       "    <tr>\n",
       "      <th>3</th>\n",
       "      <td>tt2005374</td>\n",
       "      <td>The Frozen Ground</td>\n",
       "      <td>The film opens in an Anchorage motel room in 1...</td>\n",
       "      <td>[suspenseful, dark, murder, psychological, mys...</td>\n",
       "      <td>[dramatic, murder]</td>\n",
       "      <td>[murder, violence]</td>\n",
       "      <td>[murder, suspenseful, psychological, dark, vio...</td>\n",
       "      <td>{'set_1': 'ZeroShot_Tags', 'set_2': 'Ground_Tr...</td>\n",
       "    </tr>\n",
       "    <tr>\n",
       "      <th>4</th>\n",
       "      <td>tt1411238</td>\n",
       "      <td>No Strings Attached</td>\n",
       "      <td>15 years agoWe see two young kids, named Emma ...</td>\n",
       "      <td>[comedy]</td>\n",
       "      <td>[romantic, pornographic]</td>\n",
       "      <td>[comedy, romantic, adult comedy, feel-good, dr...</td>\n",
       "      <td>[adult comedy, boring, cute, entertaining, fla...</td>\n",
       "      <td>{'set_1': 'Finetuned_Tags', 'set_2': 'Baseline...</td>\n",
       "    </tr>\n",
       "  </tbody>\n",
       "</table>\n",
       "</div>"
      ],
      "text/plain": [
       "     imdb_id  ...                                         source_map\n",
       "0  tt0033045  ...  {'set_1': 'Baseline_Tags', 'set_2': 'Ground_Tr...\n",
       "1  tt1937113  ...  {'set_1': 'Finetuned_Tags', 'set_2': 'Ground_T...\n",
       "2  tt0102007  ...  {'set_1': 'Ground_Truth_Tags', 'set_2': 'ZeroS...\n",
       "3  tt2005374  ...  {'set_1': 'ZeroShot_Tags', 'set_2': 'Ground_Tr...\n",
       "4  tt1411238  ...  {'set_1': 'Finetuned_Tags', 'set_2': 'Baseline...\n",
       "\n",
       "[5 rows x 8 columns]"
      ]
     },
     "execution_count": 35,
     "metadata": {},
     "output_type": "execute_result"
    }
   ],
   "source": [
    "merged_df = results_baseline.merge(results_pretrained[['imdb_id', 'plot_synopsis', 'Generated_Tags']], on='imdb_id', suffixes=('_baseline', '_zero_shot'))\n",
    "merged_df = merged_df.merge(results_finetuned[['imdb_id', 'Generated_Tags']], on='imdb_id')\n",
    "\n",
    "merged_df = merged_df.rename(columns={\n",
    "    'tags': 'Ground_Truth_Tags',\n",
    "    'Generated_Tags_baseline': 'Baseline_Tags',\n",
    "    'Generated_Tags_zero_shot': 'ZeroShot_Tags',\n",
    "    'Generated_Tags': 'Finetuned_Tags'\n",
    "})\n",
    "\n",
    "#shuffle tag sets per row\n",
    "def shuffle_tag_sets(row):\n",
    "    tag_sets = [row['Ground_Truth_Tags'], row['Baseline_Tags'], row['ZeroShot_Tags'], row['Finetuned_Tags']]\n",
    "    random.shuffle(tag_sets)\n",
    "    return pd.Series(tag_sets, index=['set_1', 'set_2', 'set_3', 'set_4'])\n",
    "\n",
    "#apply the shuffle to each row\n",
    "merged_df[['set_1', 'set_2', 'set_3', 'set_4']] = merged_df.apply(shuffle_tag_sets, axis=1)\n",
    "\n",
    "#source mapping per row\n",
    "def create_source_map(row):\n",
    "    source_dict = {}\n",
    "    sources = {\n",
    "        'Ground_Truth_Tags': row['Ground_Truth_Tags'],\n",
    "        'Baseline_Tags': row['Baseline_Tags'],\n",
    "        'ZeroShot_Tags': row['ZeroShot_Tags'],\n",
    "        'Finetuned_Tags': row['Finetuned_Tags']\n",
    "    }\n",
    "    for key in ['set_1', 'set_2', 'set_3', 'set_4']:\n",
    "        for source_name, source_tags in sources.items():\n",
    "            if set(row[key]) == set(source_tags):\n",
    "                source_dict[key] = source_name\n",
    "                break\n",
    "    return source_dict\n",
    "\n",
    "merged_df['source_map'] = merged_df.apply(create_source_map, axis=1)\n",
    "\n",
    "experiment_df = merged_df[['imdb_id', 'title', 'plot_synopsis', 'set_1', 'set_2', 'set_3', 'set_4', 'source_map']]\n",
    "\n",
    "experiment_df.head()"
   ]
  },
  {
   "cell_type": "code",
   "execution_count": 0,
   "metadata": {
    "application/vnd.databricks.v1+cell": {
     "cellMetadata": {
      "byteLimit": 2048000,
      "rowLimit": 10000
     },
     "inputWidgets": {},
     "nuid": "4ae3bba9-3fce-448a-82a5-3bfe4c8ce18b",
     "showTitle": false,
     "tableResultSettingsMap": {},
     "title": ""
    }
   },
   "outputs": [],
   "source": [
    "experiment_df.to_csv(\"filtered_human_validation_experiment_MPST.csv\", index=False)"
   ]
  }
 ],
 "metadata": {
  "application/vnd.databricks.v1+notebook": {
   "computePreferences": null,
   "dashboards": [],
   "environmentMetadata": {
    "base_environment": "",
    "client": "2"
   },
   "language": "python",
   "notebookMetadata": {
    "pythonIndentUnit": 4
   },
   "notebookName": "FINAL_EXPERIMENT",
   "widgets": {}
  },
  "language_info": {
   "name": "python"
  }
 },
 "nbformat": 4,
 "nbformat_minor": 0
}