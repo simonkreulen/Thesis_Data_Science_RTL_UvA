{
 "cells": [
  {
   "cell_type": "markdown",
   "metadata": {
    "application/vnd.databricks.v1+cell": {
     "cellMetadata": {
      "byteLimit": 2048000,
      "rowLimit": 10000
     },
     "inputWidgets": {},
     "nuid": "9f52eb44-582b-4a2f-a47b-307bcb7fcf75",
     "showTitle": false,
     "tableResultSettingsMap": {},
     "title": ""
    }
   },
   "source": [
    "\n",
    "### In this notebook, the data is loaded into pandas dataframes, and all initial preprocessing steps are done. Because of company regulations, the RTL data and file names (Videoland) are excluded."
   ]
  },
  {
   "cell_type": "code",
   "execution_count": 0,
   "metadata": {
    "application/vnd.databricks.v1+cell": {
     "cellMetadata": {
      "byteLimit": 2048000,
      "rowLimit": 10000
     },
     "inputWidgets": {},
     "nuid": "a1b8f5a9-1381-4adc-b1aa-d50fe57dca91",
     "showTitle": false,
     "tableResultSettingsMap": {},
     "title": ""
    }
   },
   "outputs": [],
   "source": [
    "import numpy as np\n",
    "import pandas as pd"
   ]
  },
  {
   "cell_type": "code",
   "execution_count": 0,
   "metadata": {
    "application/vnd.databricks.v1+cell": {
     "cellMetadata": {
      "byteLimit": 2048000,
      "rowLimit": 10000
     },
     "inputWidgets": {},
     "nuid": "cebfc721-f860-41a0-a5e6-4d259d73736a",
     "showTitle": false,
     "tableResultSettingsMap": {},
     "title": ""
    }
   },
   "outputs": [
    {
     "output_type": "execute_result",
     "data": {
      "text/plain": [
       "14828"
      ]
     },
     "execution_count": 3,
     "metadata": {},
     "output_type": "execute_result"
    }
   ],
   "source": [
    "# loading in the open source MPST dataset after downloading the CSV from Kaggle.\n",
    "\n",
    "mpst_df = pd.read_csv('mpst_full_data.csv')\n",
    "mpst_df.head()\n",
    "len(mpst_df)"
   ]
  },
  {
   "cell_type": "code",
   "execution_count": 0,
   "metadata": {
    "application/vnd.databricks.v1+cell": {
     "cellMetadata": {
      "byteLimit": 2048000,
      "rowLimit": 10000
     },
     "inputWidgets": {},
     "nuid": "0d6fdd8f-d624-4491-b969-4bb23bc171b7",
     "showTitle": false,
     "tableResultSettingsMap": {},
     "title": ""
    }
   },
   "outputs": [
    {
     "output_type": "stream",
     "name": "stdout",
     "output_type": "stream",
     "text": [
      "Total unique entries in imdb_id: 14828\nTotal unique entries in title: 13757\nTotal unique entries in plot_synopsis: 13848\nTotal unique entries in tags: 5604\nTotal unique entries in split: 3\nTotal unique entries in synopsis_source: 2\nTotal null entries in imdb_id: 0\nTotal null entries in title: 0\nTotal null entries in plot_synopsis: 0\nTotal null entries in tags: 0\nTotal null entries in split: 0\nTotal null entries in synopsis_source: 0\n"
     ]
    }
   ],
   "source": [
    "# nulls and duplicates check:\n",
    "\n",
    "columns_to_check = [\n",
    "    'imdb_id', 'title', 'plot_synopsis', 'tags', 'split', 'synopsis_source'\n",
    "]\n",
    "\n",
    "for col in columns_to_check:\n",
    "    unique_count = mpst_df[col].nunique()\n",
    "    print(f\"Total unique entries in {col}: {unique_count}\")\n",
    "\n",
    "for col in columns_to_check:\n",
    "    nulls_count = mpst_df[col].isna().sum()\n",
    "    print(f\"Total null entries in {col}: {nulls_count}\")"
   ]
  },
  {
   "cell_type": "code",
   "execution_count": 0,
   "metadata": {
    "application/vnd.databricks.v1+cell": {
     "cellMetadata": {
      "byteLimit": 2048000,
      "rowLimit": 10000
     },
     "inputWidgets": {},
     "nuid": "d04070cb-8e6f-47fd-8fcc-1d33edc5bc07",
     "showTitle": false,
     "tableResultSettingsMap": {},
     "title": ""
    }
   },
   "outputs": [
    {
     "output_type": "stream",
     "name": "stdout",
     "output_type": "stream",
     "text": [
      "{'sentimental', 'alternate history', 'psychological', 'absurd', 'philosophical', 'pornographic', 'murder', 'violence', 'adult comedy', 'entertaining', 'neo noir', 'good versus evil', 'sci-fi', 'claustrophobic', 'suspenseful', 'historical fiction', 'clever', 'paranormal', 'cute', 'action', 'blaxploitation', 'home movie', 'sadist', 'atmospheric', 'depressing', 'christian film', 'magical realism', 'avant garde', 'feel-good', 'cruelty', 'flashback', 'thought-provoking', 'prank', 'anti war', 'stupid', 'boring', 'melodrama', 'alternate reality', 'haunting', 'storytelling', 'queer', 'revenge', 'psychedelic', 'gothic', 'comedy', 'autobiographical', 'insanity', 'dark', 'western', 'bleak', 'plot twist', 'horror', 'fantasy', 'brainwashing', 'mystery', 'historical', 'suicidal', 'allegory', 'realism', 'comic', 'romantic', 'grindhouse film', 'non fiction', 'cult', 'satire', 'whimsical', 'inspiring', 'tragedy', 'humor', 'intrigue', 'dramatic'}\n"
     ]
    },
    {
     "output_type": "execute_result",
     "data": {
      "text/plain": [
       "71"
      ]
     },
     "execution_count": 5,
     "metadata": {},
     "output_type": "execute_result"
    }
   ],
   "source": [
    "# Print the collection of unique tags used:\n",
    "\n",
    "unique_tags = set(tag.strip() for tags in mpst_df['tags'] for tag in tags.split(','))\n",
    "\n",
    "# Convert to list or print the set directly\n",
    "print(unique_tags)\n",
    "len(unique_tags)"
   ]
  },
  {
   "cell_type": "code",
   "execution_count": 0,
   "metadata": {
    "application/vnd.databricks.v1+cell": {
     "cellMetadata": {
      "byteLimit": 2048000,
      "rowLimit": 10000
     },
     "inputWidgets": {},
     "nuid": "963fd7b7-6615-45f4-a261-6fbbdd1a7772",
     "showTitle": false,
     "tableResultSettingsMap": {},
     "title": ""
    }
   },
   "outputs": [
    {
     "output_type": "stream",
     "name": "stdout",
     "output_type": "stream",
     "text": [
      "Empty cells in 'tags' column: 0\n"
     ]
    }
   ],
   "source": [
    "empty_tags_count = mpst_df['tags'].apply(lambda x: x == '' or pd.isna(x)).sum()\n",
    "\n",
    "print(f\"Empty cells in 'tags' column: {empty_tags_count}\")"
   ]
  },
  {
   "cell_type": "code",
   "execution_count": 0,
   "metadata": {
    "application/vnd.databricks.v1+cell": {
     "cellMetadata": {
      "byteLimit": 2048000,
      "rowLimit": 10000
     },
     "inputWidgets": {},
     "nuid": "54283400-f922-4de7-848a-3d6f1662028c",
     "showTitle": false,
     "tableResultSettingsMap": {},
     "title": ""
    }
   },
   "outputs": [
    {
     "output_type": "execute_result",
     "data": {
      "text/plain": [
       "14828"
      ]
     },
     "execution_count": 7,
     "metadata": {},
     "output_type": "execute_result"
    }
   ],
   "source": [
    "mpst_df = mpst_df[(mpst_df['tags'].notna()) & (mpst_df['tags'] != '')]\n",
    "len(mpst_df)"
   ]
  },
  {
   "cell_type": "markdown",
   "metadata": {
    "application/vnd.databricks.v1+cell": {
     "cellMetadata": {
      "byteLimit": 2048000,
      "rowLimit": 10000
     },
     "inputWidgets": {},
     "nuid": "a95d51b3-ff6c-43fd-9c16-d75d11e63974",
     "showTitle": false,
     "tableResultSettingsMap": {},
     "title": ""
    }
   },
   "source": [
    "\n",
    "### Querying Wikidata for Awards data"
   ]
  },
  {
   "cell_type": "code",
   "execution_count": 0,
   "metadata": {
    "application/vnd.databricks.v1+cell": {
     "cellMetadata": {
      "byteLimit": 2048000,
      "rowLimit": 10000
     },
     "inputWidgets": {},
     "nuid": "3940a4fe-740b-4a4e-9810-e64d3aea82b1",
     "showTitle": false,
     "tableResultSettingsMap": {},
     "title": ""
    }
   },
   "outputs": [],
   "source": [
    "#creating chunks of imdb_ids from MPST data sized 500:\n",
    "\n",
    "mpst_df['imdb_id'].to_csv(\"imdb_ids_mpst\", index=False, header=False)"
   ]
  },
  {
   "cell_type": "code",
   "execution_count": 0,
   "metadata": {
    "application/vnd.databricks.v1+cell": {
     "cellMetadata": {
      "byteLimit": 2048000,
      "rowLimit": 10000
     },
     "inputWidgets": {},
     "nuid": "81ba75a2-5d29-47ab-8ea4-aa0fbe2c3fbb",
     "showTitle": false,
     "tableResultSettingsMap": {},
     "title": ""
    }
   },
   "outputs": [],
   "source": [
    "with open(\"imdb_ids_mpst\", \"r\") as file:\n",
    "    imdb_ids = [line.strip() for line in file.readlines()]\n",
    "\n",
    "chunk_size = 500\n",
    "\n",
    "# split the IMDb IDs into chunks of 500\n",
    "imdb_chunks = [imdb_ids[i:i + chunk_size] for i in range(0, len(imdb_ids), chunk_size)]"
   ]
  },
  {
   "cell_type": "markdown",
   "metadata": {
    "application/vnd.databricks.v1+cell": {
     "cellMetadata": {
      "byteLimit": 2048000,
      "rowLimit": 10000
     },
     "inputWidgets": {},
     "nuid": "42bd1be4-d16e-4ea2-b39c-c764198cd5f0",
     "showTitle": false,
     "tableResultSettingsMap": {},
     "title": ""
    }
   },
   "source": [
    "\n",
    "#### Use the following query in Wikidata Query Service, and fill in the imdb_ids from the generated chunk files to retrieve the award data:"
   ]
  },
  {
   "cell_type": "markdown",
   "metadata": {
    "application/vnd.databricks.v1+cell": {
     "cellMetadata": {
      "byteLimit": 2048000,
      "rowLimit": 10000
     },
     "inputWidgets": {},
     "nuid": "f1c54088-a25d-4d11-bdf1-dbdf5a60d28b",
     "showTitle": false,
     "tableResultSettingsMap": {},
     "title": ""
    }
   },
   "source": [
    "Link: https://query.wikidata.org/\n"
   ]
  },
  {
   "cell_type": "code",
   "execution_count": 0,
   "metadata": {
    "application/vnd.databricks.v1+cell": {
     "cellMetadata": {
      "byteLimit": 2048000,
      "implicitDf": true,
      "rowLimit": 10000
     },
     "inputWidgets": {},
     "nuid": "060d4cbb-e4b7-4ec3-b9a0-b1e3af5b4602",
     "showTitle": false,
     "tableResultSettingsMap": {},
     "title": ""
    }
   },
   "outputs": [],
   "source": [
    "# %sql\n",
    "\n",
    "#     SELECT ?imdb_id ?title ?award_label WHERE {\n",
    "#       ?film wdt:P31 wd:Q11424;  # P31 = instance of, Q11424 = film\n",
    "#             wdt:P345 ?imdb_id;   # P345 = IMDb ID\n",
    "#             wdt:P166 ?award.     # P166 = award received\n",
    "#       ?film rdfs:label ?title.\n",
    "#       ?award rdfs:label ?award_label.\n",
    "#       FILTER(?imdb_id IN (\".....\"))\n",
    "#       FILTER(LANG(?title) = \"en\")\n",
    "#       FILTER(LANG(?award_label) = \"en\")\n",
    "#     }"
   ]
  },
  {
   "cell_type": "markdown",
   "metadata": {
    "application/vnd.databricks.v1+cell": {
     "cellMetadata": {
      "byteLimit": 2048000,
      "rowLimit": 10000
     },
     "inputWidgets": {},
     "nuid": "28d820c2-177b-426c-b9d1-dfebad07fb61",
     "showTitle": false,
     "tableResultSettingsMap": {},
     "title": ""
    }
   },
   "source": [
    "#### Download the response files from Wikidata Query Service, and upload to the notebooks."
   ]
  },
  {
   "cell_type": "code",
   "execution_count": 0,
   "metadata": {
    "application/vnd.databricks.v1+cell": {
     "cellMetadata": {
      "byteLimit": 2048000,
      "rowLimit": 10000
     },
     "inputWidgets": {},
     "nuid": "bc74f66c-e7b4-4fa0-8b1f-9ef16bbd6bcb",
     "showTitle": false,
     "tableResultSettingsMap": {},
     "title": ""
    }
   },
   "outputs": [
    {
     "output_type": "execute_result",
     "data": {
      "text/html": [
       "<div>\n",
       "<style scoped>\n",
       "    .dataframe tbody tr th:only-of-type {\n",
       "        vertical-align: middle;\n",
       "    }\n",
       "\n",
       "    .dataframe tbody tr th {\n",
       "        vertical-align: top;\n",
       "    }\n",
       "\n",
       "    .dataframe thead th {\n",
       "        text-align: right;\n",
       "    }\n",
       "</style>\n",
       "<table border=\"1\" class=\"dataframe\">\n",
       "  <thead>\n",
       "    <tr style=\"text-align: right;\">\n",
       "      <th></th>\n",
       "      <th>imdb_id</th>\n",
       "      <th>title</th>\n",
       "      <th>award_label</th>\n",
       "    </tr>\n",
       "  </thead>\n",
       "  <tbody>\n",
       "    <tr>\n",
       "      <th>0</th>\n",
       "      <td>tt0070735</td>\n",
       "      <td>The Sting</td>\n",
       "      <td>Academy Award for Best Production Design</td>\n",
       "    </tr>\n",
       "    <tr>\n",
       "      <th>1</th>\n",
       "      <td>tt0070735</td>\n",
       "      <td>The Sting</td>\n",
       "      <td>Academy Award for Best Film Editing</td>\n",
       "    </tr>\n",
       "    <tr>\n",
       "      <th>2</th>\n",
       "      <td>tt0070735</td>\n",
       "      <td>The Sting</td>\n",
       "      <td>Academy Award for Best Director</td>\n",
       "    </tr>\n",
       "    <tr>\n",
       "      <th>3</th>\n",
       "      <td>tt0070735</td>\n",
       "      <td>The Sting</td>\n",
       "      <td>Academy Award for Best Writing, Original Scree...</td>\n",
       "    </tr>\n",
       "    <tr>\n",
       "      <th>4</th>\n",
       "      <td>tt0070735</td>\n",
       "      <td>The Sting</td>\n",
       "      <td>Academy Award for Best Picture</td>\n",
       "    </tr>\n",
       "    <tr>\n",
       "      <th>...</th>\n",
       "      <td>...</td>\n",
       "      <td>...</td>\n",
       "      <td>...</td>\n",
       "    </tr>\n",
       "    <tr>\n",
       "      <th>4826</th>\n",
       "      <td>tt3741834</td>\n",
       "      <td>Lion</td>\n",
       "      <td>AACTA Award for Best Actor in a Leading Role</td>\n",
       "    </tr>\n",
       "    <tr>\n",
       "      <th>4827</th>\n",
       "      <td>tt3741834</td>\n",
       "      <td>Lion</td>\n",
       "      <td>AACTA Award for Best Cinematography</td>\n",
       "    </tr>\n",
       "    <tr>\n",
       "      <th>4828</th>\n",
       "      <td>tt3741834</td>\n",
       "      <td>Lion</td>\n",
       "      <td>AACTA Award for Best Costume Design</td>\n",
       "    </tr>\n",
       "    <tr>\n",
       "      <th>4829</th>\n",
       "      <td>tt3741834</td>\n",
       "      <td>Lion</td>\n",
       "      <td>AACTA Award for Best Direction</td>\n",
       "    </tr>\n",
       "    <tr>\n",
       "      <th>4830</th>\n",
       "      <td>tt3741834</td>\n",
       "      <td>Lion</td>\n",
       "      <td>AACTA Award for Best Editing</td>\n",
       "    </tr>\n",
       "  </tbody>\n",
       "</table>\n",
       "<p>4831 rows × 3 columns</p>\n",
       "</div>"
      ],
      "text/plain": [
       "        imdb_id      title                                        award_label\n",
       "0     tt0070735  The Sting           Academy Award for Best Production Design\n",
       "1     tt0070735  The Sting                Academy Award for Best Film Editing\n",
       "2     tt0070735  The Sting                    Academy Award for Best Director\n",
       "3     tt0070735  The Sting  Academy Award for Best Writing, Original Scree...\n",
       "4     tt0070735  The Sting                     Academy Award for Best Picture\n",
       "...         ...        ...                                                ...\n",
       "4826  tt3741834       Lion       AACTA Award for Best Actor in a Leading Role\n",
       "4827  tt3741834       Lion                AACTA Award for Best Cinematography\n",
       "4828  tt3741834       Lion                AACTA Award for Best Costume Design\n",
       "4829  tt3741834       Lion                     AACTA Award for Best Direction\n",
       "4830  tt3741834       Lion                       AACTA Award for Best Editing\n",
       "\n",
       "[4831 rows x 3 columns]"
      ]
     },
     "execution_count": 11,
     "metadata": {},
     "output_type": "execute_result"
    }
   ],
   "source": [
    "wiki_awards = pd.read_csv('merged_awards.csv')\n",
    "wiki_awards"
   ]
  },
  {
   "cell_type": "code",
   "execution_count": 0,
   "metadata": {
    "application/vnd.databricks.v1+cell": {
     "cellMetadata": {
      "byteLimit": 2048000,
      "rowLimit": 10000
     },
     "inputWidgets": {},
     "nuid": "df70fe3f-c396-4330-9f77-18896a114496",
     "showTitle": false,
     "tableResultSettingsMap": {},
     "title": ""
    }
   },
   "outputs": [
    {
     "output_type": "execute_result",
     "data": {
      "text/html": [
       "<div>\n",
       "<style scoped>\n",
       "    .dataframe tbody tr th:only-of-type {\n",
       "        vertical-align: middle;\n",
       "    }\n",
       "\n",
       "    .dataframe tbody tr th {\n",
       "        vertical-align: top;\n",
       "    }\n",
       "\n",
       "    .dataframe thead th {\n",
       "        text-align: right;\n",
       "    }\n",
       "</style>\n",
       "<table border=\"1\" class=\"dataframe\">\n",
       "  <thead>\n",
       "    <tr style=\"text-align: right;\">\n",
       "      <th></th>\n",
       "      <th>imdb_id</th>\n",
       "      <th>title</th>\n",
       "      <th>award_label</th>\n",
       "    </tr>\n",
       "  </thead>\n",
       "  <tbody>\n",
       "    <tr>\n",
       "      <th>0</th>\n",
       "      <td>tt0019729</td>\n",
       "      <td>The Broadway Melody</td>\n",
       "      <td>Academy Award for Best Picture</td>\n",
       "    </tr>\n",
       "    <tr>\n",
       "      <th>1</th>\n",
       "      <td>tt0019788</td>\n",
       "      <td>Coquette</td>\n",
       "      <td>Academy Award for Best Actress</td>\n",
       "    </tr>\n",
       "    <tr>\n",
       "      <th>2</th>\n",
       "      <td>tt0020629</td>\n",
       "      <td>All Quiet on the Western Front</td>\n",
       "      <td>Academy Award for Best Picture, Academy Award ...</td>\n",
       "    </tr>\n",
       "    <tr>\n",
       "      <th>3</th>\n",
       "      <td>tt0020815</td>\n",
       "      <td>The Dawn Patrol</td>\n",
       "      <td>Academy Award for Best Story</td>\n",
       "    </tr>\n",
       "    <tr>\n",
       "      <th>4</th>\n",
       "      <td>tt0021156</td>\n",
       "      <td>Morocco</td>\n",
       "      <td>National Board of Review: Top Ten Films</td>\n",
       "    </tr>\n",
       "    <tr>\n",
       "      <th>...</th>\n",
       "      <td>...</td>\n",
       "      <td>...</td>\n",
       "      <td>...</td>\n",
       "    </tr>\n",
       "    <tr>\n",
       "      <th>1768</th>\n",
       "      <td>tt4730986</td>\n",
       "      <td>Divines</td>\n",
       "      <td>César Award for Best Supporting Actress</td>\n",
       "    </tr>\n",
       "    <tr>\n",
       "      <th>1769</th>\n",
       "      <td>tt4975722</td>\n",
       "      <td>Moonlight</td>\n",
       "      <td>Academy Award for Best Picture, Academy Award ...</td>\n",
       "    </tr>\n",
       "    <tr>\n",
       "      <th>1770</th>\n",
       "      <td>tt5013056</td>\n",
       "      <td>Dunkirk</td>\n",
       "      <td>Academy Award for Best Film Editing, Academy A...</td>\n",
       "    </tr>\n",
       "    <tr>\n",
       "      <th>1771</th>\n",
       "      <td>tt5052448</td>\n",
       "      <td>Get Out</td>\n",
       "      <td>Academy Award for Best Writing, Original Scree...</td>\n",
       "    </tr>\n",
       "    <tr>\n",
       "      <th>1772</th>\n",
       "      <td>tt5215952</td>\n",
       "      <td>The Wailing</td>\n",
       "      <td>Sitges Film Festival Best cinematography</td>\n",
       "    </tr>\n",
       "  </tbody>\n",
       "</table>\n",
       "<p>1773 rows × 3 columns</p>\n",
       "</div>"
      ],
      "text/plain": [
       "        imdb_id  ...                                        award_label\n",
       "0     tt0019729  ...                     Academy Award for Best Picture\n",
       "1     tt0019788  ...                     Academy Award for Best Actress\n",
       "2     tt0020629  ...  Academy Award for Best Picture, Academy Award ...\n",
       "3     tt0020815  ...                       Academy Award for Best Story\n",
       "4     tt0021156  ...            National Board of Review: Top Ten Films\n",
       "...         ...  ...                                                ...\n",
       "1768  tt4730986  ...            César Award for Best Supporting Actress\n",
       "1769  tt4975722  ...  Academy Award for Best Picture, Academy Award ...\n",
       "1770  tt5013056  ...  Academy Award for Best Film Editing, Academy A...\n",
       "1771  tt5052448  ...  Academy Award for Best Writing, Original Scree...\n",
       "1772  tt5215952  ...           Sitges Film Festival Best cinematography\n",
       "\n",
       "[1773 rows x 3 columns]"
      ]
     },
     "execution_count": 12,
     "metadata": {},
     "output_type": "execute_result"
    }
   ],
   "source": [
    "wiki_awards = wiki_awards.groupby(['imdb_id', 'title'], as_index=False)['award_label'].apply(lambda x: ', '.join(x)).reset_index(drop=True)\n",
    "wiki_awards = wiki_awards.drop(index=0).reset_index(drop=True)\n",
    "wiki_awards"
   ]
  },
  {
   "cell_type": "code",
   "execution_count": 0,
   "metadata": {
    "application/vnd.databricks.v1+cell": {
     "cellMetadata": {
      "byteLimit": 2048000,
      "rowLimit": 10000
     },
     "inputWidgets": {},
     "nuid": "ee7e7cb2-0ced-4c83-947b-06aae0995bfe",
     "showTitle": false,
     "tableResultSettingsMap": {},
     "title": ""
    }
   },
   "outputs": [
    {
     "output_type": "execute_result",
     "data": {
      "text/plain": [
       "842"
      ]
     },
     "execution_count": 13,
     "metadata": {},
     "output_type": "execute_result"
    }
   ],
   "source": [
    "\n",
    "#spliting each award list by commas and unpack the values\n",
    "all_awards = wiki_awards['award_label'].str.split(',').explode().str.strip()\n",
    "\n",
    "#get the unique awards\n",
    "unique_awards = all_awards.unique()\n",
    "\n",
    "#sort the awards (optional)\n",
    "unique_awards_sorted = sorted(unique_awards)\n",
    "\n",
    "wiki_awards_names = []\n",
    "\n",
    "for award in unique_awards_sorted:\n",
    "    wiki_awards_names.append(award)\n",
    "\n",
    "wiki_awards_names\n",
    "len(wiki_awards_names)"
   ]
  },
  {
   "cell_type": "markdown",
   "metadata": {
    "application/vnd.databricks.v1+cell": {
     "cellMetadata": {
      "byteLimit": 2048000,
      "rowLimit": 10000
     },
     "inputWidgets": {},
     "nuid": "95d973ca-9c40-465e-9ccb-4ee05d1569ea",
     "showTitle": false,
     "tableResultSettingsMap": {},
     "title": ""
    }
   },
   "source": [
    "\n",
    "Now that we have the wiki_awards, we merge them into the MPST dataset, and for titles with no prize, we fill in: No award, since this can also hold generative / predictive information."
   ]
  },
  {
   "cell_type": "code",
   "execution_count": 0,
   "metadata": {
    "application/vnd.databricks.v1+cell": {
     "cellMetadata": {
      "byteLimit": 2048000,
      "rowLimit": 10000
     },
     "inputWidgets": {},
     "nuid": "52f86f3b-804d-4bdf-919a-28c29bfbefef",
     "showTitle": false,
     "tableResultSettingsMap": {},
     "title": ""
    }
   },
   "outputs": [],
   "source": [
    "merged_df = pd.merge(mpst_df, wiki_awards, on='imdb_id', how='left')\n",
    "\n",
    "merged_df['award_label'].fillna('No award', inplace=True)\n",
    "\n",
    "merged_df = merged_df[['imdb_id', 'title_x', 'plot_synopsis', 'tags', 'split', 'synopsis_source', 'award_label']]\n",
    "\n",
    "merged_df.rename(columns={'title_x': 'title'}, inplace=True)"
   ]
  },
  {
   "cell_type": "code",
   "execution_count": 0,
   "metadata": {
    "application/vnd.databricks.v1+cell": {
     "cellMetadata": {
      "byteLimit": 2048000,
      "rowLimit": 10000
     },
     "inputWidgets": {},
     "nuid": "32e7154f-a8f5-4bcd-85ea-5af45ed8c871",
     "showTitle": false,
     "tableResultSettingsMap": {},
     "title": ""
    }
   },
   "outputs": [
    {
     "output_type": "stream",
     "name": "stdout",
     "output_type": "stream",
     "text": [
      "{'sentimental', 'alternate history', 'psychological', 'absurd', 'philosophical', 'pornographic', 'murder', 'violence', 'adult comedy', 'entertaining', 'neo noir', 'good versus evil', 'sci-fi', 'claustrophobic', 'suspenseful', 'historical fiction', 'clever', 'paranormal', 'cute', 'action', 'blaxploitation', 'home movie', 'sadist', 'atmospheric', 'depressing', 'christian film', 'magical realism', 'avant garde', 'feel-good', 'cruelty', 'flashback', 'thought-provoking', 'prank', 'anti war', 'stupid', 'boring', 'melodrama', 'alternate reality', 'haunting', 'storytelling', 'queer', 'revenge', 'psychedelic', 'gothic', 'comedy', 'autobiographical', 'insanity', 'dark', 'western', 'bleak', 'plot twist', 'horror', 'fantasy', 'brainwashing', 'mystery', 'historical', 'suicidal', 'allegory', 'realism', 'comic', 'romantic', 'grindhouse film', 'non fiction', 'cult', 'satire', 'whimsical', 'inspiring', 'tragedy', 'humor', 'intrigue', 'dramatic'}\n"
     ]
    }
   ],
   "source": [
    "#split each entry in 'tags' column by comma and expand into a flat list\n",
    "unique_tags = set(tag.strip() for tags in merged_df['tags'] for tag in tags.split(','))\n",
    "\n",
    "print(unique_tags)"
   ]
  },
  {
   "cell_type": "code",
   "execution_count": 0,
   "metadata": {
    "application/vnd.databricks.v1+cell": {
     "cellMetadata": {
      "byteLimit": 2048000,
      "rowLimit": 10000
     },
     "inputWidgets": {},
     "nuid": "52da4a15-5912-451b-8c66-db9d36ce73e9",
     "showTitle": false,
     "tableResultSettingsMap": {},
     "title": ""
    }
   },
   "outputs": [],
   "source": [
    "merged_df['tags'] = merged_df['tags'].str.split(',')"
   ]
  },
  {
   "cell_type": "code",
   "execution_count": 0,
   "metadata": {
    "application/vnd.databricks.v1+cell": {
     "cellMetadata": {
      "byteLimit": 2048000,
      "rowLimit": 10000
     },
     "inputWidgets": {},
     "nuid": "822235d0-dbb4-44e4-91ae-653c344bc919",
     "showTitle": false,
     "tableResultSettingsMap": {},
     "title": ""
    }
   },
   "outputs": [
    {
     "output_type": "execute_result",
     "data": {
      "text/html": [
       "<div>\n",
       "<style scoped>\n",
       "    .dataframe tbody tr th:only-of-type {\n",
       "        vertical-align: middle;\n",
       "    }\n",
       "\n",
       "    .dataframe tbody tr th {\n",
       "        vertical-align: top;\n",
       "    }\n",
       "\n",
       "    .dataframe thead th {\n",
       "        text-align: right;\n",
       "    }\n",
       "</style>\n",
       "<table border=\"1\" class=\"dataframe\">\n",
       "  <thead>\n",
       "    <tr style=\"text-align: right;\">\n",
       "      <th></th>\n",
       "      <th>imdb_id</th>\n",
       "      <th>title</th>\n",
       "      <th>plot_synopsis</th>\n",
       "      <th>tags</th>\n",
       "      <th>split</th>\n",
       "      <th>synopsis_source</th>\n",
       "      <th>award_label</th>\n",
       "    </tr>\n",
       "  </thead>\n",
       "  <tbody>\n",
       "    <tr>\n",
       "      <th>0</th>\n",
       "      <td>tt0057603</td>\n",
       "      <td>I tre volti della paura</td>\n",
       "      <td>Note: this synopsis is for the orginal Italian...</td>\n",
       "      <td>[cult,  horror,  gothic,  murder,  atmospheric]</td>\n",
       "      <td>train</td>\n",
       "      <td>imdb</td>\n",
       "      <td>No award</td>\n",
       "    </tr>\n",
       "    <tr>\n",
       "      <th>1</th>\n",
       "      <td>tt1733125</td>\n",
       "      <td>Dungeons &amp; Dragons: The Book of Vile Darkness</td>\n",
       "      <td>Two thousand years ago, Nhagruul the Foul, a s...</td>\n",
       "      <td>[violence]</td>\n",
       "      <td>train</td>\n",
       "      <td>imdb</td>\n",
       "      <td>No award</td>\n",
       "    </tr>\n",
       "    <tr>\n",
       "      <th>2</th>\n",
       "      <td>tt0033045</td>\n",
       "      <td>The Shop Around the Corner</td>\n",
       "      <td>Matuschek's, a gift store in Budapest, is the ...</td>\n",
       "      <td>[romantic]</td>\n",
       "      <td>test</td>\n",
       "      <td>imdb</td>\n",
       "      <td>No award</td>\n",
       "    </tr>\n",
       "    <tr>\n",
       "      <th>3</th>\n",
       "      <td>tt0113862</td>\n",
       "      <td>Mr. Holland's Opus</td>\n",
       "      <td>Glenn Holland, not a morning person by anyone'...</td>\n",
       "      <td>[inspiring,  romantic,  stupid,  feel-good]</td>\n",
       "      <td>train</td>\n",
       "      <td>imdb</td>\n",
       "      <td>No award</td>\n",
       "    </tr>\n",
       "    <tr>\n",
       "      <th>4</th>\n",
       "      <td>tt0086250</td>\n",
       "      <td>Scarface</td>\n",
       "      <td>In May 1980, a Cuban man named Tony Montana (A...</td>\n",
       "      <td>[cruelty,  murder,  dramatic,  cult,  violence...</td>\n",
       "      <td>val</td>\n",
       "      <td>imdb</td>\n",
       "      <td>No award</td>\n",
       "    </tr>\n",
       "  </tbody>\n",
       "</table>\n",
       "</div>"
      ],
      "text/plain": [
       "     imdb_id  ... award_label\n",
       "0  tt0057603  ...    No award\n",
       "1  tt1733125  ...    No award\n",
       "2  tt0033045  ...    No award\n",
       "3  tt0113862  ...    No award\n",
       "4  tt0086250  ...    No award\n",
       "\n",
       "[5 rows x 7 columns]"
      ]
     },
     "execution_count": 17,
     "metadata": {},
     "output_type": "execute_result"
    }
   ],
   "source": [
    "merged_df.head()"
   ]
  },
  {
   "cell_type": "code",
   "execution_count": 0,
   "metadata": {
    "application/vnd.databricks.v1+cell": {
     "cellMetadata": {
      "byteLimit": 2048000,
      "rowLimit": 10000
     },
     "inputWidgets": {},
     "nuid": "37b00f69-ba49-4052-a649-6484ee856020",
     "showTitle": false,
     "tableResultSettingsMap": {},
     "title": ""
    }
   },
   "outputs": [],
   "source": [
    "merged_df.to_csv(\"/dbfs/tmp/train_test_df.csv\", index=False)"
   ]
  },
  {
   "cell_type": "code",
   "execution_count": 0,
   "metadata": {
    "application/vnd.databricks.v1+cell": {
     "cellMetadata": {
      "byteLimit": 2048000,
      "rowLimit": 10000
     },
     "inputWidgets": {},
     "nuid": "4b81c499-acfa-46a9-965a-32628bc43fda",
     "showTitle": false,
     "tableResultSettingsMap": {},
     "title": ""
    }
   },
   "outputs": [
    {
     "output_type": "execute_result",
     "data": {
      "text/html": [
       "<div>\n",
       "<style scoped>\n",
       "    .dataframe tbody tr th:only-of-type {\n",
       "        vertical-align: middle;\n",
       "    }\n",
       "\n",
       "    .dataframe tbody tr th {\n",
       "        vertical-align: top;\n",
       "    }\n",
       "\n",
       "    .dataframe thead th {\n",
       "        text-align: right;\n",
       "    }\n",
       "</style>\n",
       "<table border=\"1\" class=\"dataframe\">\n",
       "  <thead>\n",
       "    <tr style=\"text-align: right;\">\n",
       "      <th></th>\n",
       "      <th>imdb_id</th>\n",
       "      <th>title</th>\n",
       "      <th>plot_synopsis</th>\n",
       "      <th>tags</th>\n",
       "      <th>split</th>\n",
       "      <th>synopsis_source</th>\n",
       "      <th>award_label</th>\n",
       "    </tr>\n",
       "  </thead>\n",
       "  <tbody>\n",
       "    <tr>\n",
       "      <th>0</th>\n",
       "      <td>tt0057603</td>\n",
       "      <td>I tre volti della paura</td>\n",
       "      <td>Note: this synopsis is for the orginal Italian...</td>\n",
       "      <td>[cult,  horror,  gothic,  murder,  atmospheric]</td>\n",
       "      <td>train</td>\n",
       "      <td>imdb</td>\n",
       "      <td>No award</td>\n",
       "    </tr>\n",
       "    <tr>\n",
       "      <th>1</th>\n",
       "      <td>tt1733125</td>\n",
       "      <td>Dungeons &amp; Dragons: The Book of Vile Darkness</td>\n",
       "      <td>Two thousand years ago, Nhagruul the Foul, a s...</td>\n",
       "      <td>[violence]</td>\n",
       "      <td>train</td>\n",
       "      <td>imdb</td>\n",
       "      <td>No award</td>\n",
       "    </tr>\n",
       "    <tr>\n",
       "      <th>2</th>\n",
       "      <td>tt0033045</td>\n",
       "      <td>The Shop Around the Corner</td>\n",
       "      <td>Matuschek's, a gift store in Budapest, is the ...</td>\n",
       "      <td>[romantic]</td>\n",
       "      <td>test</td>\n",
       "      <td>imdb</td>\n",
       "      <td>No award</td>\n",
       "    </tr>\n",
       "    <tr>\n",
       "      <th>3</th>\n",
       "      <td>tt0113862</td>\n",
       "      <td>Mr. Holland's Opus</td>\n",
       "      <td>Glenn Holland, not a morning person by anyone'...</td>\n",
       "      <td>[inspiring,  romantic,  stupid,  feel-good]</td>\n",
       "      <td>train</td>\n",
       "      <td>imdb</td>\n",
       "      <td>No award</td>\n",
       "    </tr>\n",
       "    <tr>\n",
       "      <th>4</th>\n",
       "      <td>tt0086250</td>\n",
       "      <td>Scarface</td>\n",
       "      <td>In May 1980, a Cuban man named Tony Montana (A...</td>\n",
       "      <td>[cruelty,  murder,  dramatic,  cult,  violence...</td>\n",
       "      <td>val</td>\n",
       "      <td>imdb</td>\n",
       "      <td>No award</td>\n",
       "    </tr>\n",
       "    <tr>\n",
       "      <th>...</th>\n",
       "      <td>...</td>\n",
       "      <td>...</td>\n",
       "      <td>...</td>\n",
       "      <td>...</td>\n",
       "      <td>...</td>\n",
       "      <td>...</td>\n",
       "      <td>...</td>\n",
       "    </tr>\n",
       "    <tr>\n",
       "      <th>14823</th>\n",
       "      <td>tt0219952</td>\n",
       "      <td>Lucky Numbers</td>\n",
       "      <td>In 1988 Russ Richards (John Travolta), the wea...</td>\n",
       "      <td>[comedy,  murder]</td>\n",
       "      <td>test</td>\n",
       "      <td>wikipedia</td>\n",
       "      <td>No award</td>\n",
       "    </tr>\n",
       "    <tr>\n",
       "      <th>14824</th>\n",
       "      <td>tt1371159</td>\n",
       "      <td>Iron Man 2</td>\n",
       "      <td>In Russia, the media covers Tony Stark's discl...</td>\n",
       "      <td>[good versus evil,  violence]</td>\n",
       "      <td>train</td>\n",
       "      <td>wikipedia</td>\n",
       "      <td>No award</td>\n",
       "    </tr>\n",
       "    <tr>\n",
       "      <th>14825</th>\n",
       "      <td>tt0063443</td>\n",
       "      <td>Play Dirty</td>\n",
       "      <td>During the North African Campaign in World War...</td>\n",
       "      <td>[anti war]</td>\n",
       "      <td>train</td>\n",
       "      <td>wikipedia</td>\n",
       "      <td>No award</td>\n",
       "    </tr>\n",
       "    <tr>\n",
       "      <th>14826</th>\n",
       "      <td>tt0039464</td>\n",
       "      <td>High Wall</td>\n",
       "      <td>Steven Kenet catches his unfaithful wife in th...</td>\n",
       "      <td>[murder]</td>\n",
       "      <td>test</td>\n",
       "      <td>wikipedia</td>\n",
       "      <td>No award</td>\n",
       "    </tr>\n",
       "    <tr>\n",
       "      <th>14827</th>\n",
       "      <td>tt0235166</td>\n",
       "      <td>Against All Hope</td>\n",
       "      <td>Sometime in the 1950s in Chicago a man, Cecil ...</td>\n",
       "      <td>[christian film]</td>\n",
       "      <td>test</td>\n",
       "      <td>wikipedia</td>\n",
       "      <td>No award</td>\n",
       "    </tr>\n",
       "  </tbody>\n",
       "</table>\n",
       "<p>14828 rows × 7 columns</p>\n",
       "</div>"
      ],
      "text/plain": [
       "         imdb_id  ... award_label\n",
       "0      tt0057603  ...    No award\n",
       "1      tt1733125  ...    No award\n",
       "2      tt0033045  ...    No award\n",
       "3      tt0113862  ...    No award\n",
       "4      tt0086250  ...    No award\n",
       "...          ...  ...         ...\n",
       "14823  tt0219952  ...    No award\n",
       "14824  tt1371159  ...    No award\n",
       "14825  tt0063443  ...    No award\n",
       "14826  tt0039464  ...    No award\n",
       "14827  tt0235166  ...    No award\n",
       "\n",
       "[14828 rows x 7 columns]"
      ]
     },
     "execution_count": 19,
     "metadata": {},
     "output_type": "execute_result"
    }
   ],
   "source": [
    "merged_df"
   ]
  }
 ],
 "metadata": {
  "application/vnd.databricks.v1+notebook": {
   "computePreferences": null,
   "dashboards": [],
   "environmentMetadata": {
    "base_environment": "",
    "client": "2"
   },
   "language": "python",
   "notebookMetadata": {
    "mostRecentlyExecutedCommandWithImplicitDF": {
     "commandId": -1,
     "dataframes": [
      "_sqldf"
     ]
    },
    "pythonIndentUnit": 4
   },
   "notebookName": "FINAL_DATA_LOADING_PREPROCESSING",
   "widgets": {}
  },
  "language_info": {
   "name": "python"
  }
 },
 "nbformat": 4,
 "nbformat_minor": 0
}